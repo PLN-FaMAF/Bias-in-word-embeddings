{
  "nbformat": 4,
  "nbformat_minor": 0,
  "metadata": {
    "colab": {
      "name": "main-tutorial-bias-word-embedding.ipynb",
      "provenance": [],
      "collapsed_sections": [],
      "toc_visible": true
    },
    "kernelspec": {
      "display_name": "Python 3",
      "language": "python",
      "name": "python3"
    },
    "language_info": {
      "codemirror_mode": {
        "name": "ipython",
        "version": 3
      },
      "file_extension": ".py",
      "mimetype": "text/x-python",
      "name": "python",
      "nbconvert_exporter": "python",
      "pygments_lexer": "ipython3",
      "version": "3.8.3"
    }
  },
  "cells": [
    {
      "cell_type": "markdown",
      "metadata": {
        "id": "NOL9zUq9C3up"
      },
      "source": [
        "# Diagnosing and mitigating bias in word embeddings\n",
        "\n",
        "Based on the tutorial https://learn.responsibly.ai/word-embedding\n",
        "and its [notebook](https://colab.research.google.com/github/ResponsiblyAI/word-embedding/blob/main/tutorial-bias-word-embedding.ipynb).\n",
        "\n",
        "Powered by [`responsibly`](https://docs.responsibly.ai/) - Toolkit for auditing and mitigating bias of machine learning systems.\n",
        "\n",
        "This is a shortened version of the original tutorial. For more extensive context, references and explanations, refer to https://learn.responsibly.ai/.\n",
        "\n",
        "\n",
        "## Disclaimer\n",
        "\n",
        "Aiming for simplicity in the explanation, the concept of gender is oversimplified, treated as binary. Nevertheless, gender is a complex social construct. This should kept in mind when we go back from a learning context to the real-world.\n",
        "\n",
        "\n",
        "## Overview\n",
        "\n",
        "In this 45 minute tutorial, we will explore bias in **word embeddings** - a widespread building block of many machine learning models that work with human languages. \n",
        "\n",
        "A word embedding is an n-dimensional space where words are represented as vectors. In such space, words with similar behavior in text are close to each other. Following the **distributional hypothesis** (Harris 1954), behavior in text is often used as a proxy for the meaning of words. \n",
        "\n",
        "The dimensions in this particular space have been found  by a neural network, processing huge amounts of raw text data, such as news, wikipedia articles, reddit posts, tweets, etc. However, the resulting space is not intepretable at human level, since the resulting dimensions display no meaning that can be understood using common knowledge or common sense.\n",
        "\n",
        "Nevertheles, word embeddings have an easy-to-explain geometrical representation that allows an intuitive understanding of this building block and its potential biases. \n",
        "\n",
        "Bias can affect any aspect of human judgement. To illustrate the phenomenon and how to address it in word embeddings, we focus on **gender** bias. We use an oversimplified representation of gender, considering only binary gender. This simplification is aimed to improve understanding of the techniques, and needs to be specifically worked out for actual deployment in applications. \n",
        "\n",
        "## What we will be doing in this tutorial: \n",
        "\n",
        "1. **Define:** We have decided that we wish to work on gender bias, but gender bias is a very complex phenomena. First of all, we will **narrow down** our definition to be able to apply the available techniques. \n",
        "We will be working specifically on gender bias with respect to *occupations*.  \n",
        "\n",
        "2. **Diagnose:** Determine whether our embedding model has observable bias according to our definition based on occupations.\n",
        "\n",
        "3. **Mitigate:** Once we've observed some bias in our embedding, we will apply some techniques to reduce the effect of bias in the embedding.\n",
        "\n",
        "In order to do that, we use the techniques developed by [Bolukbasi et all](https://arxiv.org/pdf/1607.06520.pdf) (2016). They consist in: \n",
        "\n",
        "1. **Identifying the gender sub-space within the embedding space**: we will be characterizing a direction, or in a more general sense a sub-space, in which we can distinguish the components of the gender bias. \n",
        "\n",
        "2. In order to mitigate the bias but also be able to mantain the desirable and useful characteristics of the embedding, there are 2 techniques that the authors presents and are available in ```responsibly```:\n",
        "\n",
        "  2.1. **Neutralize**: given a *set of words that should be unbiased*, in our case professions that should be gender neutral, this technique ensures that these words are in the middle of the previously identified subspace.\n",
        "\n",
        "  2.2 **Equalize**: this technique works on *words* that should be neutral regarding to sets of words that represent a concept in different gender directions, for example {grandmother, grandfather}. After the equalization, the words that we consider should be neutral regarding gender (or the particular bias) will be equidistant to all the words of the set.\n",
        "\n",
        "In this short version we will only be working on neutralization.\n",
        "\n",
        "In all these techniques we refer to *sets of words* that are relevant to our bias analysis. These sets of words are a **key component** in all of the techniques we will be working on this workshop, and should be carefully elaborated for each particular use case.\n",
        "\n",
        "We encourage you to work beyond the gender example and try to model forms of bias that are relevant for your community. Try to formalize them as binary concepts and find words that should be gender neutral!"
      ]
    },
    {
      "cell_type": "markdown",
      "metadata": {
        "id": "ND0y48N0C3u1"
      },
      "source": [
        "There are many examples of the impact of bias\n",
        "in language technology.\n",
        "In [`this notebook`](https://colab.research.google.com/drive/1leU5YU_XYzq8Mcn5xqLivkRycorncxnW) we've collected a few."
      ]
    },
    {
      "cell_type": "markdown",
      "metadata": {
        "id": "idhysORlC3uy"
      },
      "source": [
        " # Part 0: Setup"
      ]
    },
    {
      "cell_type": "markdown",
      "metadata": {
        "id": "Vn-4xIh6C3uz"
      },
      "source": [
        "## 🛠️ Install `responsibly`"
      ]
    },
    {
      "cell_type": "code",
      "metadata": {
        "colab": {
          "base_uri": "https://localhost:8080/",
          "height": 676
        },
        "id": "_nQ508U3C3uz",
        "outputId": "bd923560-e33e-450e-bc6f-311057029830"
      },
      "source": [
        "%pip install --user responsibly"
      ],
      "execution_count": null,
      "outputs": [
        {
          "output_type": "stream",
          "text": [
            "Collecting responsibly\n",
            "\u001b[?25l  Downloading https://files.pythonhosted.org/packages/5a/a5/1cbc6653d0fbdba238934112eeada26219e4aebec69632d15555c2546dd5/responsibly-0.1.3-py3-none-any.whl (28.2MB)\n",
            "\u001b[K     |████████████████████████████████| 28.2MB 139kB/s \n",
            "\u001b[?25hCollecting gensim<3.8,>=3.7\n",
            "\u001b[?25l  Downloading https://files.pythonhosted.org/packages/fa/82/2542fac981c1f9302164127088bb2d2044bf70b18ed181bc745b4432f51a/gensim-3.7.3-cp37-cp37m-manylinux1_x86_64.whl (24.2MB)\n",
            "\u001b[K     |████████████████████████████████| 24.2MB 2.5MB/s \n",
            "\u001b[?25hCollecting matplotlib<3,>=2.2\n",
            "\u001b[?25l  Downloading https://files.pythonhosted.org/packages/d3/38/64d5579936b9058c39c443f186e3ee20c0a4bb0ccc9d3618a1be93b01d05/matplotlib-2.2.5-cp37-cp37m-manylinux1_x86_64.whl (12.8MB)\n",
            "\u001b[K     |████████████████████████████████| 12.8MB 18.5MB/s \n",
            "\u001b[?25hRequirement already satisfied: seaborn>=0.9 in /usr/local/lib/python3.7/dist-packages (from responsibly) (0.11.1)\n",
            "Requirement already satisfied: scipy>=1.1 in /usr/local/lib/python3.7/dist-packages (from responsibly) (1.4.1)\n",
            "Requirement already satisfied: pandas>=0.23 in /usr/local/lib/python3.7/dist-packages (from responsibly) (1.1.5)\n",
            "Requirement already satisfied: six>=1.10 in /usr/local/lib/python3.7/dist-packages (from responsibly) (1.15.0)\n",
            "Requirement already satisfied: scikit-learn>=0.19 in /usr/local/lib/python3.7/dist-packages (from responsibly) (0.22.2.post1)\n",
            "Requirement already satisfied: tqdm>=4.24 in /usr/local/lib/python3.7/dist-packages (from responsibly) (4.41.1)\n",
            "Requirement already satisfied: mlxtend<0.17,>=0.13 in /usr/local/lib/python3.7/dist-packages (from responsibly) (0.14.0)\n",
            "Requirement already satisfied: click>=6.0 in /usr/local/lib/python3.7/dist-packages (from responsibly) (7.1.2)\n",
            "Requirement already satisfied: numpy>=1.15 in /usr/local/lib/python3.7/dist-packages (from responsibly) (1.19.5)\n",
            "Requirement already satisfied: tabulate>=0.8 in /usr/local/lib/python3.7/dist-packages (from responsibly) (0.8.9)\n",
            "Requirement already satisfied: smart-open>=1.7.0 in /usr/local/lib/python3.7/dist-packages (from gensim<3.8,>=3.7->responsibly) (5.1.0)\n",
            "Requirement already satisfied: pyparsing!=2.0.4,!=2.1.2,!=2.1.6,>=2.0.1 in /usr/local/lib/python3.7/dist-packages (from matplotlib<3,>=2.2->responsibly) (2.4.7)\n",
            "Requirement already satisfied: kiwisolver>=1.0.1 in /usr/local/lib/python3.7/dist-packages (from matplotlib<3,>=2.2->responsibly) (1.3.1)\n",
            "Requirement already satisfied: pytz in /usr/local/lib/python3.7/dist-packages (from matplotlib<3,>=2.2->responsibly) (2018.9)\n",
            "Requirement already satisfied: python-dateutil>=2.1 in /usr/local/lib/python3.7/dist-packages (from matplotlib<3,>=2.2->responsibly) (2.8.1)\n",
            "Requirement already satisfied: cycler>=0.10 in /usr/local/lib/python3.7/dist-packages (from matplotlib<3,>=2.2->responsibly) (0.10.0)\n",
            "Requirement already satisfied: joblib>=0.11 in /usr/local/lib/python3.7/dist-packages (from scikit-learn>=0.19->responsibly) (1.0.1)\n",
            "Requirement already satisfied: setuptools in /usr/local/lib/python3.7/dist-packages (from mlxtend<0.17,>=0.13->responsibly) (57.0.0)\n",
            "\u001b[31mERROR: plotnine 0.6.0 has requirement matplotlib>=3.1.1, but you'll have matplotlib 2.2.5 which is incompatible.\u001b[0m\n",
            "\u001b[31mERROR: mizani 0.6.0 has requirement matplotlib>=3.1.1, but you'll have matplotlib 2.2.5 which is incompatible.\u001b[0m\n",
            "\u001b[31mERROR: arviz 0.11.2 has requirement matplotlib>=3.0, but you'll have matplotlib 2.2.5 which is incompatible.\u001b[0m\n",
            "\u001b[31mERROR: albumentations 0.1.12 has requirement imgaug<0.2.7,>=0.2.5, but you'll have imgaug 0.2.9 which is incompatible.\u001b[0m\n",
            "Installing collected packages: gensim, matplotlib, responsibly\n",
            "Successfully installed gensim-3.7.3 matplotlib-2.2.5 responsibly-0.1.3\n"
          ],
          "name": "stdout"
        },
        {
          "output_type": "display_data",
          "data": {
            "application/vnd.colab-display-data+json": {
              "pip_warning": {
                "packages": [
                  "matplotlib",
                  "mpl_toolkits"
                ]
              }
            }
          },
          "metadata": {
            "tags": []
          }
        }
      ]
    },
    {
      "cell_type": "markdown",
      "metadata": {
        "id": "7KVoylBYC3u0"
      },
      "source": [
        "\n",
        "**Restart** the Kernel/Runtime (use the menu on top or the botton in the notebook), **skip** the installation cell (`!pip install --user responsibly`) and **run** the cell below (`import responsibly`)"
      ]
    },
    {
      "cell_type": "markdown",
      "metadata": {
        "id": "rU1uolhsC3u0"
      },
      "source": [
        "## 🛠️Validate the installation"
      ]
    },
    {
      "cell_type": "code",
      "metadata": {
        "colab": {
          "base_uri": "https://localhost:8080/",
          "height": 35
        },
        "id": "E63RXd26C3u0",
        "outputId": "b1c2174d-780c-4aab-bbc4-66d5400e6057"
      },
      "source": [
        "import responsibly\n",
        "\n",
        "# You should get '0.1.3'\n",
        "responsibly.__version__\n"
      ],
      "execution_count": null,
      "outputs": [
        {
          "output_type": "execute_result",
          "data": {
            "application/vnd.google.colaboratory.intrinsic+json": {
              "type": "string"
            },
            "text/plain": [
              "'0.1.3'"
            ]
          },
          "metadata": {
            "tags": []
          },
          "execution_count": 1
        }
      ]
    },
    {
      "cell_type": "code",
      "metadata": {
        "id": "oNwtwpu6A3G4"
      },
      "source": [
        "import warnings\n",
        "warnings.filterwarnings('ignore')"
      ],
      "execution_count": null,
      "outputs": []
    },
    {
      "cell_type": "markdown",
      "metadata": {
        "id": "U7PbQUuTIFSS"
      },
      "source": [
        "# Part 1: Playing with Word Embeddings"
      ]
    },
    {
      "cell_type": "markdown",
      "metadata": {
        "id": "0pCZrVekC3u2"
      },
      "source": [
        "## 1.1 Introduction and references\n",
        "\n",
        "When it comes to language modeling, it is clear that words are not that easy to represent in a way that captures the complexity of human language. In the case of images, for example, we translate a picture into vectors which represents pixels and their intensity, color, brightness, etc. We transform an image into a mathematical object that computers can manipulate. So, how can we represent words in a machine-usable way?\n",
        "\n",
        "There are many ways to do so, but in this tutorial we will be focusing on word embeddings. A word embedding is a learned representation for text where words that have similar meanings tend to have similar representations. But what does it mean that words have similar meanings? How can we \"teach\" that to a computer?\n",
        "\n",
        "\n",
        "**Distributional Hypothesis**\n",
        "\n",
        "> \"a word is characterized by the company it keeps\" - [John Rupert Firth](https://en.wikipedia.org/wiki/John_Rupert_Firth)\n",
        "\n",
        "Based on this hypothesis, word embeddings aim to represent words characterizing them by their contexts of occurrence, roughly following these steps:\n",
        "\n",
        "1. Gather huge amounts of text, say, all Wikipedia articles; then\n",
        "2. break text down into all possible substrings, using a sliding window along text;\n",
        "3. consider each substring as a training example for a neural network. This network tries to learn how to predict the context given one of the words in the substring, or it tries to predict one of the words given the context, that is, the rest of the words in the substring;\n",
        "4. once a neural network is trained with such examples, take the last-but-one layer as the space where words will be now represented, so that each neuron in that layer is a dimension of the embedding space.\n",
        "\n",
        "If you are curious about the details, [this post gives a very understandable visual introduction and pointers to reference work](http://jalammar.github.io/illustrated-word2vec/). \n",
        "\n",
        "It is important to note that, since embeddings are obtained from text created by people, they will naturally reflect their biases and prejudices. They should not be viewed as objective or neutral, but rather as a social construct, with the complexities of our societies."
      ]
    },
    {
      "cell_type": "markdown",
      "metadata": {
        "id": "NiqGEbVsCUN6"
      },
      "source": [
        "## 1.2 Dataset and basic properties\n",
        "\n",
        "The library [`responsibly`](http://docs.responsibly.ai) has the function [`responsibly.we.load_w2v_small`]() which returns  [`KeyedVectors`](https://radimrehurek.com/gensim/models/keyedvectors.html#gensim.models.keyedvectors.KeyedVectors) de [`gensim`](https://radimrehurek.com/gensim/). These word embeddings were trained using Google News: 100B tokens, 3 millon vocabulary, 300 dimensions vectors.\n",
        "\n",
        "For more information: [Word2Vec](https://code.google.com/archive/p/word2vec/) - "
      ]
    },
    {
      "cell_type": "code",
      "metadata": {
        "id": "o2yChPuMHPSo"
      },
      "source": [
        "from responsibly.we import load_w2v_small\n",
        "\n",
        "w2v_small = load_w2v_small()"
      ],
      "execution_count": null,
      "outputs": []
    },
    {
      "cell_type": "code",
      "metadata": {
        "colab": {
          "base_uri": "https://localhost:8080/"
        },
        "id": "p3mwmab7Fh9v",
        "outputId": "e6ba5e9d-9944-4bc6-9cca-d2ed2a966c4d"
      },
      "source": [
        "# dataset vocabulary size\n",
        "\n",
        "len(w2v_small.vocab)"
      ],
      "execution_count": null,
      "outputs": [
        {
          "output_type": "execute_result",
          "data": {
            "text/plain": [
              "26423"
            ]
          },
          "metadata": {
            "tags": []
          },
          "execution_count": 3
        }
      ]
    },
    {
      "cell_type": "code",
      "metadata": {
        "colab": {
          "base_uri": "https://localhost:8080/"
        },
        "id": "bAkayy2RG--n",
        "outputId": "d955725f-16da-4858-b341-6409624117b6"
      },
      "source": [
        "# get the vector of the word \"love\"\n",
        "\n",
        "print('love =', w2v_small['love'])"
      ],
      "execution_count": null,
      "outputs": [
        {
          "output_type": "stream",
          "text": [
            "love = [ 0.0386357  -0.0571296   0.00970471  0.0618904  -0.0618904   0.0250858\n",
            "  0.109865   -0.0988782  -0.0527351   0.0754404  -0.00984205 -0.0307621\n",
            " -0.0103914  -0.0164797  -0.088258    0.0637215   0.0483405   0.0589607\n",
            "  0.00283817 -0.0261844  -0.0144655   0.0298466   0.0860607  -0.0538337\n",
            "  0.0629891  -0.0131838   0.0206912   0.0401006   0.0419317  -0.061158\n",
            " -0.0419317   0.0523688   0.00583656  0.0479742   0.0578621   0.028931\n",
            "  0.0981458   0.0324101  -0.00943005  0.125246    0.0699472  -0.0787364\n",
            "  0.0265506   0.00975049 -0.0399175  -0.0384526   0.0461432   0.0176699\n",
            "  0.00828563  0.0218814  -0.0411993   0.056031   -0.0401006   0.00583656\n",
            "  0.0336918   0.0421148  -0.0163881  -0.0426641  -0.00140192 -0.00682077\n",
            "  0.0911877   0.0316777  -0.0265506   0.0677499   0.0131838  -0.0362553\n",
            " -0.0823985  -0.00123026 -0.0119936   0.0692148   0.106935   -0.032227\n",
            " -0.0419317   0.00801097 -0.114992   -0.0346074  -0.0710458   0.00567634\n",
            "  0.069581    0.128908   -0.116457    0.0845958   0.0327763  -0.084962\n",
            " -0.110597    0.0309452  -0.144289    0.0952161   0.101076    0.0236209\n",
            " -0.00359349  0.0886242  -0.0670175  -0.0466925  -0.0648202  -0.044129\n",
            "  0.0739756  -0.0130007  -0.039002   -0.0615242  -0.0739756   0.0743418\n",
            "  0.035706    0.00210574  0.0472418   0.00027609 -0.0151064  -0.01149\n",
            "  0.00608834 -0.0615242  -0.0831309   0.064454    0.0450445  -0.00737009\n",
            "  0.166994    0.0243533   0.0222476  -0.0615242  -0.00512702  0.0710458\n",
            "  0.0208743  -0.0187686  -0.00533302  0.0596932   0.0278324  -0.118654\n",
            " -0.0200503  -0.00883495 -0.0637215   0.0234378  -0.0527351  -0.0494391\n",
            " -0.0479742   0.0452276   0.0220645  -0.00020886  0.0216067  -0.0316777\n",
            "  0.0637215   0.0512702  -0.0351567   0.0302128  -0.0150148  -0.0140993\n",
            " -0.0988782   0.0024834  -0.00723276  0.0353398  -0.0494391  -0.104738\n",
            "  0.104005    0.119386    0.0377202   0.0428472  -0.104005    0.0413824\n",
            " -0.0261844  -0.032227   -0.0417486  -0.104738   -0.0291141   0.0191348\n",
            " -0.0231631   0.168459    0.00700387 -0.0563972   0.0512702  -0.0563972\n",
            " -0.084962    0.0446783   0.0225223  -0.0146486  -0.0406499   0.0108949\n",
            "  0.0087434   0.0494391   0.00375371  0.0118105  -0.0472418  -0.0512702\n",
            " -0.114992   -0.106935    0.0369878  -0.00211718 -0.0314945  -0.0600594\n",
            " -0.0541999  -0.0684823   0.0375371   0.0162966   0.0399175   0.0618904\n",
            "  0.0236209   0.0659188   0.0593269   0.0468756   0.064454   -0.0212405\n",
            " -0.0338749  -0.079835   -0.0146486  -0.0124513  -0.0699472  -0.0710458\n",
            " -0.00682077 -0.0114442  -0.066285    0.0571296   0.00732431  0.006363\n",
            " -0.0406499   0.0677499   0.00186541 -0.0435797  -0.0743418  -0.0717783\n",
            "  0.0802012   0.0336918  -0.061158   -0.00121881 -0.0267337   0.0309452\n",
            "  0.00810252  0.0379033  -0.109132   -0.0179446  -0.0126344  -0.0541999\n",
            " -0.0239871  -0.0466925  -0.0930188   0.0347905   0.0043717   0.0926526\n",
            "  0.143557    0.00910961 -0.0459601   0.00097276 -0.00585945  0.00202563\n",
            "  0.0177615  -0.00279239 -0.0684823   0.0823985  -0.0622567   0.134767\n",
            "  0.0198672  -0.0142824  -0.039002   -0.0692148   0.0280155   0.10254\n",
            "  0.106203    0.0571296   0.0192263  -0.0578621  -0.0589607  -0.0809337\n",
            " -0.0743418   0.037354   -0.0344243   0.0281986  -0.00915539  0.0651864\n",
            " -0.0422979   0.00082399  0.0280155  -0.00865184  0.0324101   0.0622567\n",
            "  0.0291141   0.0552986   0.0578621   0.0428472   0.0545661  -0.090089\n",
            " -0.0791026   0.0278324  -0.0552986  -0.0324101   0.0604256  -0.0267337\n",
            "  0.0410162   0.066285    0.069581   -0.0593269  -0.084962    0.0563972\n",
            " -0.0320439   0.0342412  -0.0119936   0.0505378  -0.0567634  -0.160402\n",
            " -0.0129091  -0.104738    0.0468756  -0.0743418  -0.0461432   0.0243533 ]\n"
          ],
          "name": "stdout"
        }
      ]
    },
    {
      "cell_type": "markdown",
      "metadata": {
        "id": "ZkaSBw8-L4cX"
      },
      "source": [
        "There is not much to see for us humans. While really useful, are not easily interpretable. The encoding of the semantics of the word is not transparent to us users, there is not a direct relationship between the value of the vector coordinate and a particular word meaning. They encode lots of information in a sort of criptic way. So, is there a way to detect/diagnose/observe bias in word embeddings?"
      ]
    },
    {
      "cell_type": "markdown",
      "metadata": {
        "id": "bhXogvjGHdit"
      },
      "source": [
        "## 1.3 Measuring distance between words\n",
        "\n",
        "### Measure of Similiarty: [Cosine Similariy](https://en.wikipedia.org/wiki/Cosine_similarity)\n",
        "- Measures the cosine of the angle between two vectors.\n",
        "- Ranges between 1 (same vector) to -1 (opposite vector)"
      ]
    },
    {
      "cell_type": "code",
      "metadata": {
        "id": "d-7nbBcsHPSo",
        "colab": {
          "base_uri": "https://localhost:8080/"
        },
        "outputId": "4c038aec-23d6-4697-a124-05946226ab10"
      },
      "source": [
        "w2v_small['cat'] @ w2v_small['cat']"
      ],
      "execution_count": null,
      "outputs": [
        {
          "output_type": "execute_result",
          "data": {
            "text/plain": [
              "1.0000006"
            ]
          },
          "metadata": {
            "tags": []
          },
          "execution_count": 6
        }
      ]
    },
    {
      "cell_type": "code",
      "metadata": {
        "colab": {
          "base_uri": "https://localhost:8080/"
        },
        "id": "jgPVPnfsIj-d",
        "outputId": "23f41f8f-2147-4421-8e26-50c90a881c45"
      },
      "source": [
        "w2v_small['cat'] @ w2v_small['cats']"
      ],
      "execution_count": null,
      "outputs": [
        {
          "output_type": "execute_result",
          "data": {
            "text/plain": [
              "0.8099383"
            ]
          },
          "metadata": {
            "tags": []
          },
          "execution_count": 7
        }
      ]
    },
    {
      "cell_type": "code",
      "metadata": {
        "colab": {
          "base_uri": "https://localhost:8080/"
        },
        "id": "yBUuXExdImLN",
        "outputId": "c7d2cc47-5e8b-4651-a49d-59ab01a8304d"
      },
      "source": [
        "w2v_small['cat'] @ w2v_small['dog']"
      ],
      "execution_count": null,
      "outputs": [
        {
          "output_type": "execute_result",
          "data": {
            "text/plain": [
              "0.7609462"
            ]
          },
          "metadata": {
            "tags": []
          },
          "execution_count": 8
        }
      ]
    },
    {
      "cell_type": "code",
      "metadata": {
        "colab": {
          "base_uri": "https://localhost:8080/"
        },
        "id": "m18k2bP1IpmY",
        "outputId": "b53e6431-56fe-4fe1-e0da-8c7bc3adef75"
      },
      "source": [
        "w2v_small['cat'] @ w2v_small['horse']"
      ],
      "execution_count": null,
      "outputs": [
        {
          "output_type": "execute_result",
          "data": {
            "text/plain": [
              "0.38147917"
            ]
          },
          "metadata": {
            "tags": []
          },
          "execution_count": 9
        }
      ]
    },
    {
      "cell_type": "code",
      "metadata": {
        "colab": {
          "base_uri": "https://localhost:8080/"
        },
        "id": "TZ3Os5n3IusO",
        "outputId": "30ba7122-06af-49a0-f21e-a7a7be3be3be"
      },
      "source": [
        "w2v_small['cat'] @ w2v_small['finance']"
      ],
      "execution_count": null,
      "outputs": [
        {
          "output_type": "execute_result",
          "data": {
            "text/plain": [
              "-0.037760373"
            ]
          },
          "metadata": {
            "tags": []
          },
          "execution_count": 10
        }
      ]
    },
    {
      "cell_type": "code",
      "metadata": {
        "colab": {
          "base_uri": "https://localhost:8080/"
        },
        "id": "hOqF6_g9MKbk",
        "outputId": "b1fcf49b-f89b-444b-ea53-3f8fdd771fb3"
      },
      "source": [
        "w2v_small.most_similar('cat', topn=5)"
      ],
      "execution_count": null,
      "outputs": [
        {
          "output_type": "execute_result",
          "data": {
            "text/plain": [
              "[('cats', 0.8099379539489746),\n",
              " ('dog', 0.7609457969665527),\n",
              " ('kitten', 0.7464984655380249),\n",
              " ('feline', 0.7326232194900513),\n",
              " ('puppy', 0.707545280456543)]"
            ]
          },
          "metadata": {
            "tags": []
          },
          "execution_count": 11
        }
      ]
    },
    {
      "cell_type": "markdown",
      "metadata": {
        "id": "RGM-q7TLRm7N"
      },
      "source": [
        "###Let's find \"the odd one out\""
      ]
    },
    {
      "cell_type": "code",
      "metadata": {
        "colab": {
          "base_uri": "https://localhost:8080/",
          "height": 35
        },
        "id": "5zgV7HPmPJbQ",
        "outputId": "a558cd03-ec46-49f2-efaf-c50323bf7580"
      },
      "source": [
        "w2v_small.doesnt_match('hairdresser nurse man woman housekeeper personal_trainer'.split())"
      ],
      "execution_count": null,
      "outputs": [
        {
          "output_type": "execute_result",
          "data": {
            "application/vnd.google.colaboratory.intrinsic+json": {
              "type": "string"
            },
            "text/plain": [
              "'nurse'"
            ]
          },
          "metadata": {
            "tags": []
          },
          "execution_count": 14
        }
      ]
    },
    {
      "cell_type": "code",
      "metadata": {
        "colab": {
          "base_uri": "https://localhost:8080/",
          "height": 35
        },
        "id": "lJHjGaBjWSb9",
        "outputId": "04ea5a47-c134-485c-c2e7-cdc15c8204b2"
      },
      "source": [
        "w2v_small.doesnt_match('hairdresser nurse man woman housekeeper manager'.split())"
      ],
      "execution_count": null,
      "outputs": [
        {
          "output_type": "execute_result",
          "data": {
            "application/vnd.google.colaboratory.intrinsic+json": {
              "type": "string"
            },
            "text/plain": [
              "'manager'"
            ]
          },
          "metadata": {
            "tags": []
          },
          "execution_count": 13
        }
      ]
    },
    {
      "cell_type": "code",
      "metadata": {
        "colab": {
          "base_uri": "https://localhost:8080/",
          "height": 35
        },
        "id": "WVEqp38MRwg4",
        "outputId": "1b36e364-af96-4180-eae8-09874b0ad5ce"
      },
      "source": [
        "w2v_small.doesnt_match('hairdresser nurse man men housekeeper manager'.split())"
      ],
      "execution_count": null,
      "outputs": [
        {
          "output_type": "execute_result",
          "data": {
            "application/vnd.google.colaboratory.intrinsic+json": {
              "type": "string"
            },
            "text/plain": [
              "'manager'"
            ]
          },
          "metadata": {
            "tags": []
          },
          "execution_count": 14
        }
      ]
    },
    {
      "cell_type": "code",
      "metadata": {
        "colab": {
          "base_uri": "https://localhost:8080/",
          "height": 35
        },
        "id": "F2A2TpWwYLmI",
        "outputId": "97b47625-7b76-4e55-9ccc-f239af302dd6"
      },
      "source": [
        "w2v_small.doesnt_match('hairdresser nurse woman women housekeeper manager'.split())"
      ],
      "execution_count": null,
      "outputs": [
        {
          "output_type": "execute_result",
          "data": {
            "application/vnd.google.colaboratory.intrinsic+json": {
              "type": "string"
            },
            "text/plain": [
              "'manager'"
            ]
          },
          "metadata": {
            "tags": []
          },
          "execution_count": 15
        }
      ]
    },
    {
      "cell_type": "markdown",
      "metadata": {
        "id": "s1vX3TKdv-6P"
      },
      "source": [
        "## 1.4 Visualization of Word Embedding using T-SNE\n",
        "\n",
        "Below you can find a visualization of word embeddings, a projection of a 300-dimensional embedding to a two-dimensional space. We can see that words with similar meanings tend to be close, like \"*yesterday*\", \"*summer*\" or \"*morning*\", \"*ever*\" and \"*never*\", \"*started*\" and \"*began*\"..."
      ]
    },
    {
      "cell_type": "code",
      "metadata": {
        "colab": {
          "base_uri": "https://localhost:8080/",
          "height": 668
        },
        "id": "TDhPnNz5Lnfb",
        "outputId": "14513e0a-4c5a-4d9c-fc26-fdae2f2a5606"
      },
      "source": [
        "from sklearn.manifold import TSNE\n",
        "from matplotlib import pylab as plt\n",
        "\n",
        "# take the most common words in the corpus between 200 and 600\n",
        "words = [word for word in w2v_small.index2word[200:600]]\n",
        "\n",
        "# convert the words to vectors\n",
        "embeddings = [w2v_small[word] for word in words]\n",
        "\n",
        "# perform T-SNE\n",
        "words_embedded = TSNE(n_components=2).fit_transform(embeddings)\n",
        "\n",
        "# ... and visualize!\n",
        "plt.figure(figsize=(20, 20))\n",
        "for i, label in enumerate(words):\n",
        "    x, y = words_embedded[i, :]\n",
        "    plt.scatter(x, y)\n",
        "    plt.annotate(label, xy=(x, y), xytext=(5, 2), textcoords='offset points',\n",
        "                 ha='right', va='bottom', size=11)\n",
        "plt.show()"
      ],
      "execution_count": null,
      "outputs": [
        {
          "output_type": "display_data",
          "data": {
            "image/png": "[encoded data removed]",
            "text/plain": [
              "<Figure size 1440x1440 with 1 Axes>"
            ]
          },
          "metadata": {
            "tags": [],
            "needs_background": "light"
          }
        }
      ]
    },
    {
      "cell_type": "markdown",
      "metadata": {
        "id": "L4jB1Ex7FeJ5"
      },
      "source": [
        "To get a grasp on some basic embeddings properties, check [this notebook](https://colab.research.google.com/drive/1oCTFCSSkB08_ASWDkpsFYzjW3PvbI60b?usp=sharing)"
      ]
    },
    {
      "cell_type": "markdown",
      "metadata": {
        "id": "O9Q-3tQdC3u_"
      },
      "source": [
        "## 1.5 Vector analogies\n",
        "\n",
        "One interesting property about word embeddings is that we can easily generate analogies. How do we do that? For example, if we want to obtain an analogy of the form \"*man is to king as woman is to ?*\", we substract \"*man*\" from \"*king + woman*\". \n",
        "Intuitively, we are factoring out the \"*man*\" part of the combination between a king and a woman."
      ]
    },
    {
      "cell_type": "markdown",
      "metadata": {
        "id": "vTl21bZiC3u_"
      },
      "source": [
        "<img src=\"https://github.com/ResponsiblyAI/word-embedding/blob/main/images/linear-relationships.png?raw=1\" />\n",
        "\n",
        "<small>Source: [Tensorflow Documentation](https://www.tensorflow.org/tutorials/representation/word2vec)</small>"
      ]
    },
    {
      "cell_type": "markdown",
      "metadata": {
        "id": "z3b91gWTzvYJ"
      },
      "source": [
        "\n",
        "Keep in mind the word embedding was generated by learning the co-occurrence of words, so the fact that it *empirically* exhibit \"concept arithmetic\", it doesn't necessarily mean it learned meaning! In fact, it seems it didn't, but rather, it seems it learns how words behave but not the meaning they convey.\n",
        "See: [king - man + woman is queen; but why? by Piotr Migdał](https://p.migdal.pl/2017/01/06/king-man-woman-queen-why.html)"
      ]
    },
    {
      "cell_type": "markdown",
      "metadata": {
        "id": "i9rqEENs0B-M"
      },
      "source": [
        "With these vectors, we can perform the kind of arithmetic operations described above:"
      ]
    },
    {
      "cell_type": "code",
      "metadata": {
        "colab": {
          "base_uri": "https://localhost:8080/"
        },
        "id": "9gwM2qSOl7Jp",
        "outputId": "9486f216-d2d6-43fe-a3a8-da1c425c2ed4"
      },
      "source": [
        "# small is to smaller as good is to what?\n",
        "w2v_small.most_similar(positive=['good', 'smaller'], negative=['small'], topn=2)"
      ],
      "execution_count": null,
      "outputs": [
        {
          "output_type": "execute_result",
          "data": {
            "text/plain": [
              "[('better', 0.7270160913467407), ('stronger', 0.5597214102745056)]"
            ]
          },
          "metadata": {
            "tags": []
          },
          "execution_count": 17
        }
      ]
    },
    {
      "cell_type": "code",
      "metadata": {
        "colab": {
          "base_uri": "https://localhost:8080/"
        },
        "id": "N4cVRxWRUhmX",
        "outputId": "40f294ae-5a9a-4a2c-9895-4ec3c92ef7f5"
      },
      "source": [
        "# man is to carpenter as woman is to what?\n",
        "\n",
        "w2v_small.most_similar(positive=['carpenter', 'woman'], negative=['men'], topn=2)"
      ],
      "execution_count": null,
      "outputs": [
        {
          "output_type": "execute_result",
          "data": {
            "text/plain": [
              "[('schoolteacher', 0.590914785861969), ('homemaker', 0.5572819709777832)]"
            ]
          },
          "metadata": {
            "tags": []
          },
          "execution_count": 18
        }
      ]
    },
    {
      "cell_type": "markdown",
      "metadata": {
        "id": "RbiFSeRmPo0R"
      },
      "source": [
        "With these analogies we can start **exploring** our embedding to detect possible harmful bias."
      ]
    },
    {
      "cell_type": "markdown",
      "metadata": {
        "id": "jvOi3PHfNmoy"
      },
      "source": [
        "# Part 2: Diagnosing Gender Bias\n",
        "\n",
        "Given that the representation of a word in an embedding space is a vector, how can we **observe** bias? Can vectors be biased? What does that even mean?"
      ]
    },
    {
      "cell_type": "markdown",
      "metadata": {
        "id": "VFoKGcr2C3vA"
      },
      "source": [
        "## 2.1 Words with mophological gender\n",
        "\n",
        "There are many words that are gender marked in their form, for example, \"*brother-sister*\". These words convey gender through their morphology. They do not necessarily reflect a stereotype, but a morphological characteristic of the words. Other words that convey gender are queen-king, mother-father, waiter-waitress."
      ]
    },
    {
      "cell_type": "code",
      "metadata": {
        "colab": {
          "base_uri": "https://localhost:8080/"
        },
        "id": "mzHt7krQC3vB",
        "outputId": "748ab8c6-690f-4fd8-93ec-8d51e2d4ff42"
      },
      "source": [
        "# She is to sister as he is to what?\n",
        "# sister - she + he = ?\n",
        "\n",
        "w2v_small.most_similar(positive=['sister', 'he'], negative=['she'], topn=5)"
      ],
      "execution_count": null,
      "outputs": [
        {
          "output_type": "execute_result",
          "data": {
            "text/plain": [
              "[('brother', 0.7627110481262207),\n",
              " ('younger_brother', 0.6856132745742798),\n",
              " ('cousin', 0.6685015559196472),\n",
              " ('uncle', 0.6580697894096375),\n",
              " ('nephew', 0.65260249376297)]"
            ]
          },
          "metadata": {
            "tags": []
          },
          "execution_count": 19
        }
      ]
    },
    {
      "cell_type": "markdown",
      "metadata": {
        "id": "JmdyMQbBC3vB"
      },
      "source": [
        "## 2.2 Words with gender stereotypes \n",
        "\n",
        "In contrast, some words do not have a gender meaning morphologically, but are associated gender meanings by sterotyped usage. This happens because the contexts of occurrence of such words are biased toward some specific gender, reflecting how people actually use those words. Some words representing professions are markedly biased with respect to gender, because they tend to be associated to male or female roles. Here we here we explore such words the analogy mechanism."
      ]
    },
    {
      "cell_type": "code",
      "metadata": {
        "colab": {
          "base_uri": "https://localhost:8080/"
        },
        "id": "1Lq26hcCC3vB",
        "outputId": "c5469bc0-4885-4f88-f138-fabfb61bfc61"
      },
      "source": [
        "#She is to interior designer as he is to what?\n",
        "w2v_small.most_similar(positive=['interior_designer', 'he'], negative=['she'], topn=4)"
      ],
      "execution_count": null,
      "outputs": [
        {
          "output_type": "execute_result",
          "data": {
            "text/plain": [
              "[('architect', 0.623257040977478),\n",
              " ('carpenter', 0.46738606691360474),\n",
              " ('painter', 0.4598923623561859),\n",
              " ('restaurateur', 0.4586508572101593)]"
            ]
          },
          "metadata": {
            "tags": []
          },
          "execution_count": 7
        }
      ]
    },
    {
      "cell_type": "markdown",
      "metadata": {
        "id": "KVDAu5JbC3vB"
      },
      "source": [
        "Here other female-male stereotypes that you can explore. \n",
        "\n",
        "```\n",
        "nurse-doctor\n",
        "sewing-carpentry\n",
        "volleyball-football\n",
        "interior_designer-architect\n",
        "feminism-conservatism\n",
        "vocalist-guitarist\n",
        "diva-superstar\n",
        "cupcakes-pizzas\n",
        "hairdresser-barber\n",
        "```"
      ]
    },
    {
      "cell_type": "markdown",
      "metadata": {
        "id": "KDLn6n64C3vC"
      },
      "source": [
        "## 2.3 Gender direction\n",
        "\n",
        "Now, let's see an example of how binary meaning can be represented. Let's take our binary representation of the \"*gender*\" meaning.\n",
        "\n",
        "### $\\overrightarrow{she} - \\overrightarrow{he}$\n",
        " "
      ]
    },
    {
      "cell_type": "code",
      "metadata": {
        "id": "6Fl65I1vC3vC"
      },
      "source": [
        "from numpy.linalg import norm\n",
        "\n",
        "gender_direction = w2v_small['she'] - w2v_small['he']\n",
        "\n",
        "gender_direction /= norm(gender_direction)"
      ],
      "execution_count": null,
      "outputs": []
    },
    {
      "cell_type": "code",
      "metadata": {
        "colab": {
          "base_uri": "https://localhost:8080/"
        },
        "id": "-6uAKJvTC3vC",
        "outputId": "a6acef72-58ec-4277-f869-1fc196023611"
      },
      "source": [
        "# the @ operator returns the cosine similarity of 2 normalized vectors\n",
        "gender_direction @ w2v_small['architect']"
      ],
      "execution_count": null,
      "outputs": [
        {
          "output_type": "execute_result",
          "data": {
            "text/plain": [
              "-0.16785555"
            ]
          },
          "metadata": {
            "tags": []
          },
          "execution_count": 22
        }
      ]
    },
    {
      "cell_type": "code",
      "metadata": {
        "colab": {
          "base_uri": "https://localhost:8080/"
        },
        "id": "55MCmDhWC3vC",
        "outputId": "4e3c5209-d4e0-4924-8aad-1a9458a0de7a"
      },
      "source": [
        "gender_direction @ w2v_small['interior_designer']"
      ],
      "execution_count": null,
      "outputs": [
        {
          "output_type": "execute_result",
          "data": {
            "text/plain": [
              "0.19714224"
            ]
          },
          "metadata": {
            "tags": []
          },
          "execution_count": 23
        }
      ]
    },
    {
      "cell_type": "markdown",
      "metadata": {
        "id": "KXoDjjFSC3vD"
      },
      "source": [
        "**⚡Interpret carefully: The word *architect* appears in more contexts with *he* than with *she*, and vice versa for *interior designer*.**"
      ]
    },
    {
      "cell_type": "markdown",
      "metadata": {
        "id": "j6_SqDfEC3vD"
      },
      "source": [
        "In practice, we calculate the direction of the gender meaning subspace not only using \"he\" and \"she\", but using multiple pairs of words that represent each end of the meaning direction. This allows for better estimation, counterweighting the fact that words may have more than one meaning.\n",
        "\n",
        "- woman - man\n",
        "- girl - boy\n",
        "- she - he\n",
        "- mother - father\n",
        "- daughter - son\n",
        "- gal - guy\n",
        "- female - male\n",
        "- her - his\n",
        "- herself - himself\n",
        "- Mary - John\n",
        "\n",
        "Note that **this list of words is a very important input** of the analysis, as it defines the meaning that we are trying to explore!"
      ]
    },
    {
      "cell_type": "markdown",
      "metadata": {
        "id": "HiqVsyXiC3vD"
      },
      "source": [
        "## 2.4 Try some words by yourself\n",
        "Now think about some word: where in the gender direction is it located? nearing which end, and how near?\n",
        "\n",
        "\n",
        "⚡ Keep in mind: You are performing exploratory data analysis, and not a systemic evaluation!"
      ]
    },
    {
      "cell_type": "code",
      "metadata": {
        "colab": {
          "base_uri": "https://localhost:8080/"
        },
        "id": "bvnuDrC7C3vD",
        "outputId": "3ffb45c2-16f8-4f9a-f502-cc8b6aa8cffd"
      },
      "source": [
        "gender_direction @ w2v_small['house']"
      ],
      "execution_count": null,
      "outputs": [
        {
          "output_type": "execute_result",
          "data": {
            "text/plain": [
              "0.07210897"
            ]
          },
          "metadata": {
            "tags": []
          },
          "execution_count": 24
        }
      ]
    },
    {
      "cell_type": "code",
      "metadata": {
        "colab": {
          "base_uri": "https://localhost:8080/"
        },
        "id": "VUjcCSnLpGI7",
        "outputId": "50bf9b2a-f8b9-4dc3-82e5-2baf9de66db9"
      },
      "source": [
        "gender_direction @ w2v_small['home']"
      ],
      "execution_count": null,
      "outputs": [
        {
          "output_type": "execute_result",
          "data": {
            "text/plain": [
              "-0.016742865"
            ]
          },
          "metadata": {
            "tags": []
          },
          "execution_count": 25
        }
      ]
    },
    {
      "cell_type": "markdown",
      "metadata": {
        "id": "9DuWu9yVC3vE"
      },
      "source": [
        "## 2.5 Projections in the gender direction"
      ]
    },
    {
      "cell_type": "markdown",
      "metadata": {
        "id": "bYdcit9fw9w_"
      },
      "source": [
        "Now we want to be more systematic in this exploration. \n",
        "\n",
        "We will be using a list of morphologically gender-neutral professions to do that. Gender-neutral words should be equally distant from both ends in the gender direction. We say that their bias should be around 0, and again we have a high-level construct to model that:"
      ]
    },
    {
      "cell_type": "code",
      "metadata": {
        "id": "ucDbQ13uC3vE"
      },
      "source": [
        "from responsibly.we import GenderBiasWE\n",
        "\n",
        "w2v_small_gender_bias = GenderBiasWE(w2v_small, only_lower=True)"
      ],
      "execution_count": null,
      "outputs": []
    },
    {
      "cell_type": "code",
      "metadata": {
        "colab": {
          "base_uri": "https://localhost:8080/"
        },
        "id": "wOy5EDmRC3vE",
        "outputId": "cd9b1f37-ffae-4580-8ae8-ebc2f0bb43dc"
      },
      "source": [
        "w2v_small_gender_bias.positive_end, w2v_small_gender_bias.negative_end"
      ],
      "execution_count": null,
      "outputs": [
        {
          "output_type": "execute_result",
          "data": {
            "text/plain": [
              "('she', 'he')"
            ]
          },
          "metadata": {
            "tags": []
          },
          "execution_count": 27
        }
      ]
    },
    {
      "cell_type": "code",
      "metadata": {
        "colab": {
          "base_uri": "https://localhost:8080/"
        },
        "id": "NzlmJWFdC3vE",
        "outputId": "f653d854-e229-4a7f-aa2a-5ac2b0ae8b53"
      },
      "source": [
        "# gender direction\n",
        "w2v_small_gender_bias.direction[:10]"
      ],
      "execution_count": null,
      "outputs": [
        {
          "output_type": "execute_result",
          "data": {
            "text/plain": [
              "array([-0.10056252, -0.09987912, -0.05384335,  0.00480521,  0.01521063,\n",
              "       -0.01666582,  0.00932552, -0.00625998, -0.11320096,  0.03992424])"
            ]
          },
          "metadata": {
            "tags": []
          },
          "execution_count": 28
        }
      ]
    },
    {
      "cell_type": "code",
      "metadata": {
        "id": "KI8U2QhCC3vE"
      },
      "source": [
        "# list of gender neutral professions\n",
        "from responsibly.we.data import BOLUKBASI_DATA\n",
        "\n",
        "neutral_profession_names = BOLUKBASI_DATA['gender']['neutral_profession_names']"
      ],
      "execution_count": null,
      "outputs": []
    },
    {
      "cell_type": "code",
      "metadata": {
        "colab": {
          "base_uri": "https://localhost:8080/"
        },
        "id": "tAHD1RdXC3vF",
        "outputId": "8999853d-feb5-4c65-ff6c-a815613bf90b"
      },
      "source": [
        "neutral_profession_names[:8]"
      ],
      "execution_count": null,
      "outputs": [
        {
          "output_type": "execute_result",
          "data": {
            "text/plain": [
              "['accountant',\n",
              " 'acquaintance',\n",
              " 'actor',\n",
              " 'adjunct_professor',\n",
              " 'administrator',\n",
              " 'adventurer',\n",
              " 'advocate',\n",
              " 'aide']"
            ]
          },
          "metadata": {
            "tags": []
          },
          "execution_count": 30
        }
      ]
    },
    {
      "cell_type": "markdown",
      "metadata": {
        "id": "loqvR0qUC3vF"
      },
      "source": [
        "Note: Why `actor` is in the neutral profession names list while `actress` is not there?\n",
        "1. Due to the statistical nature of the method that is used to find the gender- specific and natural words\n",
        "2. That might be because `actor` nowadays is much more gender-neutral, compared to waiter-waitress (see [Wikipedia - The term Actress](https://en.wikipedia.org/wiki/Actor#The_term_actress))"
      ]
    },
    {
      "cell_type": "code",
      "metadata": {
        "colab": {
          "base_uri": "https://localhost:8080/"
        },
        "id": "fLgkcOuGC3vF",
        "outputId": "e9ff166c-01d2-4a26-bceb-520561843ca8"
      },
      "source": [
        "len(neutral_profession_names)"
      ],
      "execution_count": null,
      "outputs": [
        {
          "output_type": "execute_result",
          "data": {
            "text/plain": [
              "303"
            ]
          },
          "metadata": {
            "tags": []
          },
          "execution_count": 31
        }
      ]
    },
    {
      "cell_type": "code",
      "metadata": {
        "colab": {
          "base_uri": "https://localhost:8080/"
        },
        "id": "qby3XDrfC3vF",
        "outputId": "c5ecf755-6396-4c7f-bc13-9abb35a88bff"
      },
      "source": [
        "# the same of using the @ operator on the bias direction\n",
        "\n",
        "w2v_small_gender_bias.project_on_direction(neutral_profession_names[0])"
      ],
      "execution_count": null,
      "outputs": [
        {
          "output_type": "execute_result",
          "data": {
            "text/plain": [
              "0.008421647916552755"
            ]
          },
          "metadata": {
            "tags": []
          },
          "execution_count": 32
        }
      ]
    },
    {
      "cell_type": "markdown",
      "metadata": {
        "id": "th7UryxdC3vF"
      },
      "source": [
        "Let's visualize the projections of professions (neutral and specific by the orthography) on the gender direction:"
      ]
    },
    {
      "cell_type": "code",
      "metadata": {
        "colab": {
          "base_uri": "https://localhost:8080/",
          "height": 615
        },
        "id": "juiycs76C3vF",
        "outputId": "5468783f-85fd-4b2c-a29f-076c3ed31cbf"
      },
      "source": [
        "import matplotlib.pylab as plt\n",
        "\n",
        "f, ax = plt.subplots(1, figsize=(10, 10))\n",
        "\n",
        "w2v_small_gender_bias.plot_projection_scores(n_extreme=20, ax=ax);"
      ],
      "execution_count": null,
      "outputs": [
        {
          "output_type": "display_data",
          "data": {
            "image/png": "[encoded data removed]",
            "text/plain": [
              "<Figure size 720x720 with 1 Axes>"
            ]
          },
          "metadata": {
            "tags": [],
            "needs_background": "light"
          }
        }
      ]
    },
    {
      "cell_type": "markdown",
      "metadata": {
        "id": "CUiw8Tjxx6Qh"
      },
      "source": [
        "They do not look very neutral, they edge towards one or the other end of the continuum."
      ]
    },
    {
      "cell_type": "markdown",
      "metadata": {
        "id": "K1MgiofyC3vF"
      },
      "source": [
        "EXTRA: Demo - Visualizing gender bias with [Word Clouds](http://wordbias.umiacs.umd.edu/)"
      ]
    },
    {
      "cell_type": "markdown",
      "metadata": {
        "id": "1IlRykZjC3vG"
      },
      "source": [
        "The projections of occupation words on the gender direction are related to the real world!\n",
        "\n",
        "Garg, N., Schiebinger, L., Jurafsky, D., & Zou, J. (2018). Word embeddings quantify 100 years of gender and ethnic stereotypes. Proceedings of the National Academy of Sciences, 115(16), E3635-E3644."
      ]
    },
    {
      "cell_type": "markdown",
      "metadata": {
        "id": "oas2WYuTng5y"
      },
      "source": [
        "# Part 3: Hands on Mitigating Bias!"
      ]
    },
    {
      "cell_type": "markdown",
      "metadata": {
        "id": "KwZmL19LC3vG"
      },
      "source": [
        "## 3.1 Direct Bias Measure\n",
        "\n",
        "Now that we have modelled the gender direction (with words representing each end) and we have a representation of how an unbiased word embedding would be (via gender-neutral words), we can diagnose bias, in a very simple, systematic way:\n",
        "\n",
        "1. Project each **neutral profession name** on the gender direction\n",
        "2. Calculate the absolute value of each projection\n",
        "3. Average it all"
      ]
    },
    {
      "cell_type": "code",
      "metadata": {
        "colab": {
          "base_uri": "https://localhost:8080/"
        },
        "id": "MdXFI9EqC3vG",
        "outputId": "08f6f2df-79dd-4b13-c251-fa33fd3bdd18"
      },
      "source": [
        "# high-level function to calculate gender bias built into responsibly\n",
        "\n",
        "w2v_small_gender_bias.calc_direct_bias()"
      ],
      "execution_count": null,
      "outputs": [
        {
          "output_type": "execute_result",
          "data": {
            "text/plain": [
              "0.07307905466893873"
            ]
          },
          "metadata": {
            "tags": []
          },
          "execution_count": 34
        }
      ]
    },
    {
      "cell_type": "code",
      "metadata": {
        "colab": {
          "base_uri": "https://localhost:8080/"
        },
        "id": "MbB7U8IFC3vH",
        "outputId": "9d8fa66b-8449-42df-b1ad-094c672eeb77"
      },
      "source": [
        "# what responsibly does within the calc_direct_bias function:\n",
        "\n",
        "neutral_profession_projections = [w2v_small[word] @ w2v_small_gender_bias.direction\n",
        "                                  for word in neutral_profession_names]\n",
        "\n",
        "abs_neutral_profession_projections = [abs(proj) for proj in neutral_profession_projections]\n",
        "\n",
        "sum(abs_neutral_profession_projections) / len(abs_neutral_profession_projections)"
      ],
      "execution_count": null,
      "outputs": [
        {
          "output_type": "execute_result",
          "data": {
            "text/plain": [
              "0.0730790545759565"
            ]
          },
          "metadata": {
            "tags": []
          },
          "execution_count": 35
        }
      ]
    },
    {
      "cell_type": "markdown",
      "metadata": {
        "id": "Dv_Zav4DC3vH"
      },
      "source": [
        "What are the assumptions of the direct bias measure? How does the choice of neutral words affect the definition of the bias? Can we measure **all** of the gender bias with this technique? \n",
        "\n",
        "An interesing property of this method is that it gives us a quantitative measure of the bias in the embedding, but keep in mind that this number only takes into consideration the bias present in the *assumed neutral* words with respect to the *defined gender direction*, which we agreed was a simplification of the actual phenomenon.\n",
        "\n",
        "What about words that are not in the list? Is this list comprehensive enough?"
      ]
    },
    {
      "cell_type": "markdown",
      "metadata": {
        "id": "x2AxxNoXC3vH"
      },
      "source": [
        "## 3.2 Mitigating gender bias\n",
        "\n",
        "> We intentionally do not reference the resulting embeddings as \"debiased\" or free from all gender bias, and\n",
        "prefer the term \"mitigating bias\" rather that \"debiasing,\" to guard against the misconception that the resulting\n",
        "embeddings are entirely \"safe\" and need not be critically evaluated for bias in downstream tasks. \n",
        "\n",
        "<small>James-Sorenson, H., & Alvarez-Melis, D. (2019). [Probabilistic Bias Mitigation in Word Embeddings](https://arxiv.org/pdf/1910.14497.pdf). arXiv preprint arXiv:1910.14497.</small>"
      ]
    },
    {
      "cell_type": "markdown",
      "metadata": {
        "id": "TlW6-I0vECj5"
      },
      "source": [
        "As an approach to mitigating bias, we will remove the gender projection from the words in the gender-neutral word list and then normalize.\n",
        "\n",
        "This method *needs* a list of gender neutral words to neutralize, or a list of words that are inherently gendered to not neutralize. \n",
        "\n",
        "For this particular example on gender bias, responsibly defines a list of neutral words and neutralizes those words. These words are defined as the complement of the morphologically gendered words, and they are quite a few in English, because English is an [analytic language](https://en.wikipedia.org/wiki/Analytic_language)."
      ]
    },
    {
      "cell_type": "code",
      "metadata": {
        "colab": {
          "base_uri": "https://localhost:8080/"
        },
        "id": "pxQfyJHNTnvM",
        "outputId": "b037caeb-f87e-47eb-fed8-783d4267c4ab"
      },
      "source": [
        "len(w2v_small_gender_bias._data['neutral_words'])"
      ],
      "execution_count": 201,
      "outputs": [
        {
          "output_type": "execute_result",
          "data": {
            "text/plain": [
              "26189"
            ]
          },
          "metadata": {
            "tags": []
          },
          "execution_count": 201
        }
      ]
    },
    {
      "cell_type": "code",
      "metadata": {
        "colab": {
          "base_uri": "https://localhost:8080/"
        },
        "id": "NWuZsuaCSHCO",
        "outputId": "0894569a-e4ed-4ad7-d96c-d1732a0c06d4"
      },
      "source": [
        "import random\n",
        "print(random.sample(w2v_small_gender_bias._data['neutral_words'],10))"
      ],
      "execution_count": 200,
      "outputs": [
        {
          "output_type": "stream",
          "text": [
            "['sneaked', 'pipeline', 'involving', 'rodent', 'survived', 'affirmative_action', 'baptism', 'cushions', 'vibrancy', 'theoretical']\n"
          ],
          "name": "stdout"
        }
      ]
    },
    {
      "cell_type": "code",
      "metadata": {
        "id": "RzIzwzcXC3vH"
      },
      "source": [
        "# we obtain a version of the embeddings that is mitigated wrt the gender direction\n",
        "w2v_small_gender_debias = w2v_small_gender_bias.debias(method='neutralize', inplace=False)"
      ],
      "execution_count": null,
      "outputs": []
    },
    {
      "cell_type": "code",
      "metadata": {
        "colab": {
          "base_uri": "https://localhost:8080/"
        },
        "id": "ip3Xbn1JMh2D",
        "outputId": "8378d3aa-3318-40a3-8032-009709cd1c58"
      },
      "source": [
        "# measure of bias in the original embeddings\n",
        "w2v_small_gender_bias.calc_direct_bias()"
      ],
      "execution_count": null,
      "outputs": [
        {
          "output_type": "execute_result",
          "data": {
            "text/plain": [
              "0.07307905479130264"
            ]
          },
          "metadata": {
            "tags": []
          },
          "execution_count": 53
        }
      ]
    },
    {
      "cell_type": "code",
      "metadata": {
        "colab": {
          "base_uri": "https://localhost:8080/"
        },
        "id": "hFf08ZQmC3vI",
        "outputId": "8cf0c20f-540e-4bf6-ca50-12c30ebe2577"
      },
      "source": [
        "# measure of bias in the mitigated embeddings\n",
        "w2v_small_gender_debias.calc_direct_bias()"
      ],
      "execution_count": null,
      "outputs": [
        {
          "output_type": "execute_result",
          "data": {
            "text/plain": [
              "1.1615064677713404e-09"
            ]
          },
          "metadata": {
            "tags": []
          },
          "execution_count": 37
        }
      ]
    },
    {
      "cell_type": "code",
      "metadata": {
        "colab": {
          "base_uri": "https://localhost:8080/"
        },
        "id": "-sCYRrPPFz1-",
        "outputId": "3cd8cb4a-e924-4493-8044-7366d4c51bab"
      },
      "source": [
        "'home' in (w2v_small_gender_bias._data['neutral_words'])"
      ],
      "execution_count": null,
      "outputs": [
        {
          "output_type": "execute_result",
          "data": {
            "text/plain": [
              "True"
            ]
          },
          "metadata": {
            "tags": []
          },
          "execution_count": 43
        }
      ]
    },
    {
      "cell_type": "code",
      "metadata": {
        "colab": {
          "base_uri": "https://localhost:8080/"
        },
        "id": "J3hgtHyxC3vH",
        "outputId": "f52b20ab-24bc-4efe-9d32-7ae1a4070eaa"
      },
      "source": [
        "print('home:',\n",
        "      'before =', w2v_small_gender_bias.model['home'] @ w2v_small_gender_bias.direction,\n",
        "      'after = ', w2v_small_gender_debias.model['home'] @ w2v_small_gender_debias.direction)"
      ],
      "execution_count": null,
      "outputs": [
        {
          "output_type": "stream",
          "text": [
            "home: before = 0.011340496779172263 after =  -1.176245451061858e-09\n"
          ],
          "name": "stdout"
        }
      ]
    },
    {
      "cell_type": "code",
      "metadata": {
        "colab": {
          "base_uri": "https://localhost:8080/"
        },
        "id": "SGQMLRoeApNg",
        "outputId": "44dd2b03-dd43-44d9-a0eb-5c2916d655bd"
      },
      "source": [
        "print('architect:',\n",
        "      'before =', w2v_small_gender_bias.model['architect'] @ w2v_small_gender_bias.direction,\n",
        "      'after = ', w2v_small_gender_debias.model['architect'] @ w2v_small_gender_debias.direction)"
      ],
      "execution_count": null,
      "outputs": [
        {
          "output_type": "stream",
          "text": [
            "architect: before = -0.17738309189742663 after =  -4.154597475580876e-10\n"
          ],
          "name": "stdout"
        }
      ]
    },
    {
      "cell_type": "code",
      "metadata": {
        "colab": {
          "base_uri": "https://localhost:8080/"
        },
        "id": "in7w-yJ_CMG1",
        "outputId": "d3191b57-9e56-4f9b-d382-1e8d3d436c7b"
      },
      "source": [
        "print('interior_designer:',\n",
        "      'before =', w2v_small_gender_bias.model['interior_designer'] @ w2v_small_gender_bias.direction,\n",
        "      'after = ', w2v_small_gender_debias.model['interior_designer'] @ w2v_small_gender_debias.direction)"
      ],
      "execution_count": null,
      "outputs": [
        {
          "output_type": "stream",
          "text": [
            "interior_designer: before = 0.19845774284382506 after =  2.8877261946752195e-09\n"
          ],
          "name": "stdout"
        }
      ]
    },
    {
      "cell_type": "code",
      "metadata": {
        "colab": {
          "base_uri": "https://localhost:8080/"
        },
        "id": "MDIBHfJsNbVa",
        "outputId": "8f25065d-4b1a-4c70-dbdb-46e9025b9354"
      },
      "source": [
        "'man' in (w2v_small_gender_bias._data['neutral_words'])"
      ],
      "execution_count": 182,
      "outputs": [
        {
          "output_type": "execute_result",
          "data": {
            "text/plain": [
              "False"
            ]
          },
          "metadata": {
            "tags": []
          },
          "execution_count": 182
        }
      ]
    },
    {
      "cell_type": "code",
      "metadata": {
        "colab": {
          "base_uri": "https://localhost:8080/"
        },
        "id": "IZC7y2I9C3vI",
        "outputId": "3e4c94af-db0a-4c2a-cfc5-2035864a15d2"
      },
      "source": [
        "print('man:',\n",
        "      'before =', w2v_small_gender_bias.model['man'] @ w2v_small_gender_bias.direction,\n",
        "      'after = ', w2v_small_gender_debias.model['man'] @ w2v_small_gender_debias.direction)"
      ],
      "execution_count": null,
      "outputs": [
        {
          "output_type": "stream",
          "text": [
            "man: before = -0.22095192936041713 after =  -0.2209519293604172\n"
          ],
          "name": "stdout"
        }
      ]
    },
    {
      "cell_type": "code",
      "metadata": {
        "colab": {
          "base_uri": "https://localhost:8080/"
        },
        "id": "mPh777kyC3vI",
        "outputId": "d25662d6-c581-45e1-e0ed-389d1e4a8e4a"
      },
      "source": [
        "print('woman:',\n",
        "      'before =', w2v_small_gender_bias.model['woman'] @ w2v_small_gender_bias.direction,\n",
        "      'after = ', w2v_small_gender_debias.model['woman'] @ w2v_small_gender_debias.direction)"
      ],
      "execution_count": null,
      "outputs": [
        {
          "output_type": "stream",
          "text": [
            "woman: before = 0.3403474745246814 after =  0.3403474745246813\n"
          ],
          "name": "stdout"
        }
      ]
    },
    {
      "cell_type": "code",
      "metadata": {
        "colab": {
          "base_uri": "https://localhost:8080/",
          "height": 621
        },
        "id": "G3sd0hLUC3vI",
        "outputId": "6db3889a-76bc-493e-8f5d-5a26b2b80d36"
      },
      "source": [
        "f, ax = plt.subplots(1, figsize=(10, 10))\n",
        "\n",
        "w2v_small_gender_debias.plot_projection_scores(n_extreme=20, ax=ax);"
      ],
      "execution_count": null,
      "outputs": [
        {
          "output_type": "display_data",
          "data": {
            "image/png": "[encoded data removed]",
            "text/plain": [
              "<Figure size 720x720 with 1 Axes>"
            ]
          },
          "metadata": {
            "tags": []
          }
        }
      ]
    },
    {
      "cell_type": "markdown",
      "metadata": {
        "id": "OCJLjMTsvR6Y"
      },
      "source": [
        "If you liked this exploration on gender bias, maybe you will want to take a look at an exploration on racial bias in the [original notebook](https://colab.research.google.com/github/ResponsiblyAI/word-embedding/blob/main/tutorial-bias-word-embedding.ipynb)."
      ]
    },
    {
      "cell_type": "markdown",
      "metadata": {
        "id": "c90opOeK-YuJ"
      },
      "source": [
        "# Parte 4: Ahora en castellano!\n",
        "\n",
        "Vamos a ver ahora cómo se trasladan estas técnicas a otro idioma.\n",
        "\n",
        "El castellano es una lengua con varias diferencias con respecto al inglés:\n",
        "- la mayoría de las palabras tienen **género marcado explícitamente en su forma**. Por lo tanto, será difícil obtener una lista de palabras neutras con respecto al género, que responsibly define muy fácilmente para el inglés.\n",
        "- se pueden **omitir los sujetos** de las oraciones, por lo tanto, las ocurrencias de \"*él*\" y \"*ella*\" tendrán una distribución muy diferente que las de \"*he*\" y \"*she*\".\n",
        "\n",
        "Con estas diferencias ¿resultarán efectivas las estrategias desarrolladas para el inglés?\n",
        "\n",
        "Vamos a analizar los [word embeddings para el castellano](http://dcc.uchile.cl/~jperez/word-embeddings/fasttext-sbwc.vec.gz) obtenidos mediante [fastText](https://fasttext.cc/) a partir del [Spanish Billion Words Corpus](https://github.com/crscardellino/sbwce). Este embedding representa 855.380 palabras en 300 dimensiones, obteniendo sus contextos de ocurrencia a partir de 1'4 billones de palabras. Para este ejemplo usaremos solamente las 100000 palabras más frecuentes, así se ejecutará todo más rápido.\n",
        "\n",
        "A diferencia de los embeddings obtenidos con word2vec, los embeddings obtenidos con fastText procesan también cadenas de caracteres dentro de las palabras, lo cual es muy adecuado para modelar lenguas donde las palabras tienen muchas variaciones en la forma, como el castellano, que es una [lengua de tipología fusionante](https://es.wikipedia.org/wiki/Lengua_fusionante). Efectivamente, mientras que en inglés (una [lengua aislante](https://es.wikipedia.org/wiki/Lengua_aislante)) las palabras tienen pocas formas diferentes, en castellano las palabras tienen muchas, porque significados como género, número, o tiempo verbal se expresan como variaciones en la forma de la palabra: \"*escribirá, escribiremos, escribirían*\".\n",
        "\n",
        "Empecemos por obtener datos y librerías."
      ]
    },
    {
      "cell_type": "code",
      "metadata": {
        "colab": {
          "base_uri": "https://localhost:8080/"
        },
        "id": "rnNcdmBU-emQ",
        "outputId": "030ddb27-7f11-43e7-fdb0-5ebba10f9f56"
      },
      "source": [
        "*# Descargar el modelo e importar librerías necesarias\n",
        "import numpy as np\n",
        "import logging\n",
        "\n",
        "from numpy.linalg import norm\n",
        "from gensim.models import KeyedVectors\n",
        "from sklearn.metrics import classification_report, accuracy_score\n",
        "\n",
        "logging.basicConfig(format='%(asctime)s : %(message)s', level=logging.INFO)\n",
        "\n",
        "!wget -q http://dcc.uchile.cl/~jperez/word-embeddings/fasttext-sbwc.100k.vec.gz\n",
        "\n",
        "!gzip -d -q fasttext-sbwc.100k.vec.gz\n",
        "!ls"
      ],
      "execution_count": 71,
      "outputs": [
        {
          "output_type": "stream",
          "text": [
            "fasttext-sbwc.100k.vec\tsample_data\n"
          ],
          "name": "stdout"
        }
      ]
    },
    {
      "cell_type": "code",
      "metadata": {
        "id": "tBIhi_aM-glm",
        "colab": {
          "base_uri": "https://localhost:8080/"
        },
        "outputId": "885c7f91-2ab7-4370-d83b-c5f97c9cff62"
      },
      "source": [
        "we = KeyedVectors.load_word2vec_format('fasttext-sbwc.100k.vec')\n",
        "# Esto normaliza los vectores\n",
        "we.init_sims(replace=True)"
      ],
      "execution_count": 72,
      "outputs": [
        {
          "output_type": "stream",
          "text": [
            "2021-06-15 22:24:13,448 : loading projection weights from fasttext-sbwc.100k.vec\n",
            "2021-06-15 22:24:45,186 : loaded (100000, 300) matrix from fasttext-sbwc.100k.vec\n",
            "2021-06-15 22:24:45,190 : precomputing L2-norms of word weight vectors\n"
          ],
          "name": "stderr"
        }
      ]
    },
    {
      "cell_type": "code",
      "metadata": {
        "id": "SL8LuKQd-kFE"
      },
      "source": [
        "# definimos cuándo dos vectores son \"casi iguales\" en este embedding\n",
        "\n",
        "from numpy.testing import assert_almost_equal\n",
        "\n",
        "length_vectors = norm(we.vectors_norm, axis=1)\n",
        "\n",
        "assert_almost_equal(actual=length_vectors,\n",
        "                    desired=1,\n",
        "                    decimal=5)"
      ],
      "execution_count": 73,
      "outputs": []
    },
    {
      "cell_type": "markdown",
      "metadata": {
        "id": "WvOvYHV9-3G1"
      },
      "source": [
        "## 4.1 Palabras con estereotipo de género\n",
        "\n",
        "En castellano casi todas las palabras tienen género morfológico explícito, así que vamos a centrarnos directamente en las que reflejan estereotipos de género."
      ]
    },
    {
      "cell_type": "markdown",
      "metadata": {
        "id": "MjGqBHdNyk3M"
      },
      "source": [
        "Vemos que la aritmética de vectores produce unos resultados bastante comparables a los del inglés."
      ]
    },
    {
      "cell_type": "code",
      "metadata": {
        "colab": {
          "base_uri": "https://localhost:8080/"
        },
        "id": "0OKYIQWd-wh-",
        "outputId": "3e6e9909-6ecb-4b88-e9da-9b0abf704f22"
      },
      "source": [
        "we.most_similar(positive=['doctor'],negative=['mujer'])"
      ],
      "execution_count": null,
      "outputs": [
        {
          "output_type": "execute_result",
          "data": {
            "text/plain": [
              "[('dr', 0.4176639914512634),\n",
              " ('licenciado', 0.3791270852088928),\n",
              " ('doctores', 0.3671714663505554),\n",
              " ('honoris', 0.3577732443809509),\n",
              " ('professor', 0.34742414951324463),\n",
              " ('neurólogo', 0.3422521650791168),\n",
              " ('cirujano', 0.33602601289749146),\n",
              " ('traumatólogo', 0.3323988914489746),\n",
              " ('profesor', 0.33126506209373474),\n",
              " ('cardiólogo', 0.3256565034389496)]"
            ]
          },
          "metadata": {
            "tags": []
          },
          "execution_count": 5
        }
      ]
    },
    {
      "cell_type": "code",
      "metadata": {
        "colab": {
          "base_uri": "https://localhost:8080/"
        },
        "id": "fpbRUklH-xsM",
        "outputId": "74d64371-7424-45fa-a806-3d6f4960bc8b"
      },
      "source": [
        "we.most_similar(positive=['doctora'],negative=['hombre'])"
      ],
      "execution_count": null,
      "outputs": [
        {
          "output_type": "execute_result",
          "data": {
            "text/plain": [
              "[('psicóloga', 0.43664997816085815),\n",
              " ('bióloga', 0.40995094180107117),\n",
              " ('catedrática', 0.40756943821907043),\n",
              " ('profesora', 0.40630972385406494),\n",
              " ('historiadora', 0.38048917055130005),\n",
              " ('investigadora', 0.3678087592124939),\n",
              " ('licenciada', 0.366742342710495),\n",
              " ('vicerrectora', 0.3654743432998657),\n",
              " ('filóloga', 0.36261123418807983),\n",
              " ('ginecóloga', 0.35758891701698303)]"
            ]
          },
          "metadata": {
            "tags": []
          },
          "execution_count": 6
        }
      ]
    },
    {
      "cell_type": "markdown",
      "metadata": {
        "id": "OcL2i10u-0L3"
      },
      "source": [
        "A pesar de las diferencias entre el castellano y el inglés, podemos ver en la exploración del embedding fenómenos comparables. \n",
        "\n",
        "Se evidencian nociones estereotípicas sobre especialidades médicas, asociando a las doctoras con ginecología, obstetricia, enfemería, mientras que los doctores están mas relacionados con profesor, investigador, catedrático...\n",
        "\n",
        "Podemos seguir explorando cómo el uso de las palabras refleja estereotipos."
      ]
    },
    {
      "cell_type": "code",
      "metadata": {
        "colab": {
          "base_uri": "https://localhost:8080/"
        },
        "id": "JuQQf3HR-8t6",
        "outputId": "7dd244e6-8bc5-45c4-a85f-5fb94eb730ff"
      },
      "source": [
        "we.most_similar(positive=['inteligente', 'mujer'], negative=['hombre'])"
      ],
      "execution_count": null,
      "outputs": [
        {
          "output_type": "execute_result",
          "data": {
            "text/plain": [
              "[('sensata', 0.4874057173728943),\n",
              " ('talentosa', 0.48738622665405273),\n",
              " ('innovadora', 0.47544434666633606),\n",
              " ('manipuladora', 0.4719089865684509),\n",
              " ('emprendedora', 0.46958673000335693),\n",
              " ('atractiva', 0.45731809735298157),\n",
              " ('extrovertida', 0.4571165144443512),\n",
              " ('impulsiva', 0.44972628355026245),\n",
              " ('educada', 0.447437047958374),\n",
              " ('ingeniosa', 0.44558414816856384)]"
            ]
          },
          "metadata": {
            "tags": []
          },
          "execution_count": 7
        }
      ]
    },
    {
      "cell_type": "code",
      "metadata": {
        "colab": {
          "base_uri": "https://localhost:8080/"
        },
        "id": "n7AzXQQi-__9",
        "outputId": "683d6806-bbe1-4601-de31-b6c588afaefc"
      },
      "source": [
        "we.most_similar(positive=['inteligente', 'hombre'], negative=['mujer'])"
      ],
      "execution_count": null,
      "outputs": [
        {
          "output_type": "execute_result",
          "data": {
            "text/plain": [
              "[('astuto', 0.5987648963928223),\n",
              " ('inteligentemente', 0.565445601940155),\n",
              " ('inteligentes', 0.5556885004043579),\n",
              " ('intuitivo', 0.5533121824264526),\n",
              " ('visionario', 0.5499666929244995),\n",
              " ('bondadoso', 0.5497375726699829),\n",
              " ('afable', 0.5486626625061035),\n",
              " ('disciplinado', 0.5481559634208679),\n",
              " ('honesto', 0.5480844974517822),\n",
              " ('ingenioso', 0.5475456714630127)]"
            ]
          },
          "metadata": {
            "tags": []
          },
          "execution_count": 8
        }
      ]
    },
    {
      "cell_type": "code",
      "metadata": {
        "colab": {
          "base_uri": "https://localhost:8080/"
        },
        "id": "lKDZb1_i3TPH",
        "outputId": "9c3e8d30-69dc-47f0-c6ec-c944e55b2782"
      },
      "source": [
        "we.most_similar(positive=['médico','mujer'], negative=['hombre'])"
      ],
      "execution_count": 80,
      "outputs": [
        {
          "output_type": "execute_result",
          "data": {
            "text/plain": [
              "[('ginecóloga', 0.6046308279037476),\n",
              " ('obstetra', 0.5925636887550354),\n",
              " ('pediatra', 0.5792399048805237),\n",
              " ('ginecológica', 0.5755670070648193),\n",
              " ('obstetricia', 0.562862753868103),\n",
              " ('enfermera', 0.5607845783233643),\n",
              " ('médica', 0.5571267604827881),\n",
              " ('médicos', 0.5507985353469849),\n",
              " ('ginecología', 0.5502138137817383),\n",
              " ('obstétrica', 0.5493755340576172)]"
            ]
          },
          "metadata": {
            "tags": []
          },
          "execution_count": 80
        }
      ]
    },
    {
      "cell_type": "code",
      "metadata": {
        "colab": {
          "base_uri": "https://localhost:8080/"
        },
        "id": "VBpmvqVn3k9t",
        "outputId": "fa8e0642-381a-46a8-de6e-a6833b352318"
      },
      "source": [
        "we.most_similar(positive=['médico','hombre'], negative=['mujer'])"
      ],
      "execution_count": 82,
      "outputs": [
        {
          "output_type": "execute_result",
          "data": {
            "text/plain": [
              "[('cardiólogo', 0.596772313117981),\n",
              " ('cirujano', 0.5966023802757263),\n",
              " ('traumatólogo', 0.5808753967285156),\n",
              " ('medico', 0.5804007053375244),\n",
              " ('galeno', 0.5700283050537109),\n",
              " ('ginecólogo', 0.5457277297973633),\n",
              " ('neurólogo', 0.54304438829422),\n",
              " ('enfermero', 0.5366503000259399),\n",
              " ('psiquiatra', 0.5364155173301697),\n",
              " ('neurocirujano', 0.5363881587982178)]"
            ]
          },
          "metadata": {
            "tags": []
          },
          "execution_count": 82
        }
      ]
    },
    {
      "cell_type": "code",
      "metadata": {
        "colab": {
          "base_uri": "https://localhost:8080/"
        },
        "id": "G1bLRo2R3WIo",
        "outputId": "cb891567-2262-4a08-95a7-b5bd70fddd11"
      },
      "source": [
        "we.most_similar(positive=['médica','hombre'], negative=['mujer'])"
      ],
      "execution_count": 81,
      "outputs": [
        {
          "output_type": "execute_result",
          "data": {
            "text/plain": [
              "[('médico', 0.5506406426429749),\n",
              " ('medica', 0.5366383790969849),\n",
              " ('médicas', 0.5251321196556091),\n",
              " ('clínica', 0.5138856172561646),\n",
              " ('médicos', 0.499112069606781),\n",
              " ('medico', 0.49768391251564026),\n",
              " ('quirúrgica', 0.49031704664230347),\n",
              " ('galeno', 0.4826927185058594),\n",
              " ('odontológica', 0.48202377557754517),\n",
              " ('hospitalaria', 0.4809926748275757)]"
            ]
          },
          "metadata": {
            "tags": []
          },
          "execution_count": 81
        }
      ]
    },
    {
      "cell_type": "code",
      "metadata": {
        "colab": {
          "base_uri": "https://localhost:8080/"
        },
        "id": "CUmuIa8p3uog",
        "outputId": "4d26aa4c-3e63-43fa-dccd-e9ba5ed20645"
      },
      "source": [
        "we.most_similar(positive=['médica','mujer'], negative=['hombre'])"
      ],
      "execution_count": 83,
      "outputs": [
        {
          "output_type": "execute_result",
          "data": {
            "text/plain": [
              "[('ginecológica', 0.6155674457550049),\n",
              " ('obstétrica', 0.5944493412971497),\n",
              " ('obstetricia', 0.5862675905227661),\n",
              " ('pediátrica', 0.5625762939453125),\n",
              " ('ginecología', 0.5593430995941162),\n",
              " ('obstétricos', 0.5461073517799377),\n",
              " ('medica', 0.5453529357910156),\n",
              " ('ambulatoria', 0.5365152955055237),\n",
              " ('obstétricas', 0.5328614115715027),\n",
              " ('odontológica', 0.5309116244316101)]"
            ]
          },
          "metadata": {
            "tags": []
          },
          "execution_count": 83
        }
      ]
    },
    {
      "cell_type": "markdown",
      "metadata": {
        "id": "GBYi2Zmk_rCX"
      },
      "source": [
        "## 4.2 Dirección de género\n",
        "\n",
        "Ahora vamos a construir el espacio de género! Empecemos como en inglés, con \"*él*\" y \"*ella*\"."
      ]
    },
    {
      "cell_type": "code",
      "metadata": {
        "colab": {
          "base_uri": "https://localhost:8080/"
        },
        "id": "KOeDVU_O-Rnp",
        "outputId": "57e17d43-d8ff-4520-ab0b-a504dce9a647"
      },
      "source": [
        "from responsibly.we import BiasWordEmbedding\n",
        "\n",
        "we_genero = BiasWordEmbedding(we, only_lower=True)"
      ],
      "execution_count": 202,
      "outputs": [
        {
          "output_type": "stream",
          "text": [
            "2021-06-16 01:19:35,771 : precomputing L2-norms of word weight vectors\n"
          ],
          "name": "stderr"
        }
      ]
    },
    {
      "cell_type": "code",
      "metadata": {
        "id": "BICdy7KN4VVN"
      },
      "source": [
        "espacio_f = ['ella']\n",
        "espacio_m = ['él']\n",
        "\n",
        "we_genero._identify_direction('Femenino', 'Masculino',\n",
        "                                          definitional=(espacio_f, espacio_m),\n",
        "                                          method='sum')"
      ],
      "execution_count": 203,
      "outputs": []
    },
    {
      "cell_type": "code",
      "metadata": {
        "id": "nak_NBgr_Oym"
      },
      "source": [
        "gender_direction = we_genero.direction\n",
        "\n",
        "gender_direction /= norm(gender_direction)"
      ],
      "execution_count": 204,
      "outputs": []
    },
    {
      "cell_type": "code",
      "metadata": {
        "colab": {
          "base_uri": "https://localhost:8080/"
        },
        "id": "lih6vMnE_Ru7",
        "outputId": "4385f305-cd9b-48a1-b6da-181bc248ef30"
      },
      "source": [
        "gender_direction @ we.word_vec('arquitecta')"
      ],
      "execution_count": 205,
      "outputs": [
        {
          "output_type": "execute_result",
          "data": {
            "text/plain": [
              "0.21170145"
            ]
          },
          "metadata": {
            "tags": []
          },
          "execution_count": 205
        }
      ]
    },
    {
      "cell_type": "code",
      "metadata": {
        "colab": {
          "base_uri": "https://localhost:8080/"
        },
        "id": "uo_k9PPJ_THl",
        "outputId": "fe845ca4-4d9b-4193-b9ce-51770d23d8a6"
      },
      "source": [
        "gender_direction @ we.word_vec('arquitecto')"
      ],
      "execution_count": 206,
      "outputs": [
        {
          "output_type": "execute_result",
          "data": {
            "text/plain": [
              "-0.09577321"
            ]
          },
          "metadata": {
            "tags": []
          },
          "execution_count": 206
        }
      ]
    },
    {
      "cell_type": "markdown",
      "metadata": {
        "id": "atAX_zxi43Ys"
      },
      "source": [
        "Pues no parece que se diferencien mucho las palabras...\n",
        "\n",
        "⚡ El castellano es una [lengua que permite la omisión del sujeto](https://en.wikipedia.org/wiki/Pro-drop_language), por lo tanto **\"*él*\" y \"*ella*\" ocurren menos veces y en contextos muy distintos a \"*he*\" y \"*she*\". Parece que no son buenos delimitadores del subespacio de género!**\n",
        "\n",
        "En ese caso, usemos más y mejores indicadores."
      ]
    },
    {
      "cell_type": "code",
      "metadata": {
        "id": "DJfWPEO--U6E"
      },
      "source": [
        "espacio_f = ['mujer', 'ella' , 'chica', 'niña', 'esposa', 'señora', 'hermana', 'madre', 'abuela']\n",
        "espacio_m = ['hombre', 'él', 'chico', 'niño', 'esposo', 'señor', 'hermano', 'padre','abuelo']\n",
        "\n",
        "we_genero._identify_direction('Femenino', 'Masculino',\n",
        "                                          definitional=(espacio_f, espacio_m),\n",
        "                                          method='sum')"
      ],
      "execution_count": 207,
      "outputs": []
    },
    {
      "cell_type": "code",
      "metadata": {
        "id": "wcwQwQFV6PBV"
      },
      "source": [
        "gender_direction = we_genero.direction\n",
        "\n",
        "gender_direction /= norm(gender_direction)"
      ],
      "execution_count": 208,
      "outputs": []
    },
    {
      "cell_type": "code",
      "metadata": {
        "colab": {
          "base_uri": "https://localhost:8080/"
        },
        "id": "ks37gqji7HNg",
        "outputId": "5f77391d-dd4c-41bd-9f89-f318daf5e15c"
      },
      "source": [
        "gender_direction @ we.word_vec('arquitecta')"
      ],
      "execution_count": 209,
      "outputs": [
        {
          "output_type": "execute_result",
          "data": {
            "text/plain": [
              "0.29372594"
            ]
          },
          "metadata": {
            "tags": []
          },
          "execution_count": 209
        }
      ]
    },
    {
      "cell_type": "code",
      "metadata": {
        "colab": {
          "base_uri": "https://localhost:8080/"
        },
        "id": "O6ujmB5L7I_z",
        "outputId": "15c93494-97a9-46a3-c2d9-f5ff6fbdc019"
      },
      "source": [
        "gender_direction @ we.word_vec('arquitecto')"
      ],
      "execution_count": 210,
      "outputs": [
        {
          "output_type": "execute_result",
          "data": {
            "text/plain": [
              "-0.19526821"
            ]
          },
          "metadata": {
            "tags": []
          },
          "execution_count": 210
        }
      ]
    },
    {
      "cell_type": "markdown",
      "metadata": {
        "id": "FU80SdDw7ThK"
      },
      "source": [
        "Ahora bien: cómo sabemos que estas palabras no se están situando en diferentes posiciones del subespacio de género por su género morfológico, y no porque estén representando estereotipos?\n",
        "\n",
        "Hagamos el experimento con palabras que tengan el mismo género morfológico pero que representen diferentes estereotipos de género."
      ]
    },
    {
      "cell_type": "code",
      "metadata": {
        "colab": {
          "base_uri": "https://localhost:8080/"
        },
        "id": "kxajoveD_Unq",
        "outputId": "0837dabe-7753-4b3e-d45b-f0e8c04ad64a"
      },
      "source": [
        "gender_direction @ we.word_vec('arquitectura')"
      ],
      "execution_count": 211,
      "outputs": [
        {
          "output_type": "execute_result",
          "data": {
            "text/plain": [
              "0.01069098"
            ]
          },
          "metadata": {
            "tags": []
          },
          "execution_count": 211
        }
      ]
    },
    {
      "cell_type": "code",
      "metadata": {
        "colab": {
          "base_uri": "https://localhost:8080/"
        },
        "id": "x-_pf8u9_V6s",
        "outputId": "6dff4ec0-ead5-402d-df6f-c03a86670c97"
      },
      "source": [
        "gender_direction @ we.word_vec('ingeniería')"
      ],
      "execution_count": 212,
      "outputs": [
        {
          "output_type": "execute_result",
          "data": {
            "text/plain": [
              "-0.06690517"
            ]
          },
          "metadata": {
            "tags": []
          },
          "execution_count": 212
        }
      ]
    },
    {
      "cell_type": "code",
      "metadata": {
        "colab": {
          "base_uri": "https://localhost:8080/"
        },
        "id": "2CJGOHQs7qSl",
        "outputId": "6e8ca6ce-d1ef-44c5-b31b-f2301928f595"
      },
      "source": [
        "gender_direction @ we.word_vec('obstetricia')"
      ],
      "execution_count": 213,
      "outputs": [
        {
          "output_type": "execute_result",
          "data": {
            "text/plain": [
              "0.06260888"
            ]
          },
          "metadata": {
            "tags": []
          },
          "execution_count": 213
        }
      ]
    },
    {
      "cell_type": "code",
      "metadata": {
        "colab": {
          "base_uri": "https://localhost:8080/"
        },
        "id": "FI9grDMc7329",
        "outputId": "12cf8086-1585-488f-9b94-16a8e8d4c442"
      },
      "source": [
        "gender_direction @ we.word_vec('medicina')"
      ],
      "execution_count": 214,
      "outputs": [
        {
          "output_type": "execute_result",
          "data": {
            "text/plain": [
              "-0.02380787"
            ]
          },
          "metadata": {
            "tags": []
          },
          "execution_count": 214
        }
      ]
    },
    {
      "cell_type": "markdown",
      "metadata": {
        "id": "C5d9ZZRl9uxh"
      },
      "source": [
        "Ambas palabras tienen género gramatical femenino, pero\n",
        "parecen ubicarse del lado masculino."
      ]
    },
    {
      "cell_type": "markdown",
      "metadata": {
        "id": "MzDFVhEt_dBD"
      },
      "source": [
        "Podríamos pensar que la posición en la dirección del género en castellano solamente tiene que ver con el género gramatical de la palabra, pero no parece ser así!\n",
        "\n",
        "Por lo tanto, parece que hemos podido llegar a una representación de la dirección de género que es indicativa de estereotipos de género.\n",
        "\n",
        "Hagamos una última prueba con uno de los ejemplos que vimos para el inglés: \"*house*\" y \"*home*\"."
      ]
    },
    {
      "cell_type": "code",
      "metadata": {
        "colab": {
          "base_uri": "https://localhost:8080/"
        },
        "id": "JGS7skfV8wYJ",
        "outputId": "7cefc955-f588-4b92-da4e-c227ad6d7330"
      },
      "source": [
        "gender_direction @ we.word_vec('casa')"
      ],
      "execution_count": 215,
      "outputs": [
        {
          "output_type": "execute_result",
          "data": {
            "text/plain": [
              "0.036148656"
            ]
          },
          "metadata": {
            "tags": []
          },
          "execution_count": 215
        }
      ]
    },
    {
      "cell_type": "code",
      "metadata": {
        "colab": {
          "base_uri": "https://localhost:8080/"
        },
        "id": "nGXAR3Ef81kf",
        "outputId": "991c6f6a-e018-4d88-e451-d20ade3a99e2"
      },
      "source": [
        "gender_direction @ we.word_vec('hogar')"
      ],
      "execution_count": 216,
      "outputs": [
        {
          "output_type": "execute_result",
          "data": {
            "text/plain": [
              "-0.030880773"
            ]
          },
          "metadata": {
            "tags": []
          },
          "execution_count": 216
        }
      ]
    },
    {
      "cell_type": "markdown",
      "metadata": {
        "id": "W-F3scUx88az"
      },
      "source": [
        "Aunque la dirección de género parece funcionar, ¿quizás los estereotipos asociados a las palabras no son directamente comparables? ¡Esto amerita un estudio de corpus!"
      ]
    },
    {
      "cell_type": "markdown",
      "metadata": {
        "id": "UyhIbwRV_BM3"
      },
      "source": [
        "## 4.3 Medición directa del sesgo de género"
      ]
    },
    {
      "cell_type": "markdown",
      "metadata": {
        "id": "Xtx_IaYAIWEW"
      },
      "source": [
        "Como en inglés, podemos medir el sesgo en esta dirección de género usando una lista de palabras que sean neutras con respecto al género, es decir, que no tengan género morfológicamente marcado. \n",
        "\n",
        "La librería responsibly provee una lista de profesiones neutras en inglés. En español, la lista de profesiones neutras es mucho más corta porque en castellano la mayor parte de las palabras tienen género morfológicamente marcado. \n",
        "\n",
        "Sin embargo, hay algunas profesiones que tienen forma no marcada con género, principalmente palabras terminadas en -ista, -nte. \n",
        "\n",
        "Con esta lista, la estrategia desarrollada para el inglés debería funcionar."
      ]
    },
    {
      "cell_type": "code",
      "metadata": {
        "id": "b1jjG0iU_IX3"
      },
      "source": [
        "profesiones_neutras = [\n",
        "    'chofer',\n",
        "    'columnista',\n",
        "    'publicista',\n",
        "    'naturista',\n",
        "    'asistente',\n",
        "    'taxista',\n",
        "    'psiquiatra',\n",
        "    'policia',\n",
        "    'dentista',\n",
        "    'florista',\n",
        "    'docente',\n",
        "    'periodista',\n",
        "    'electricista',\n",
        "    'economista',\n",
        "    'atleta',\n",
        "    'terapeuta',\n",
        "    'piloto',\n",
        "    'modelo',\n",
        "    'estudiante',\n",
        "    'comerciante',\n",
        "    'chef',\n",
        "    'cantante',\n",
        "    'militar',\n",
        "]"
      ],
      "execution_count": 217,
      "outputs": []
    },
    {
      "cell_type": "markdown",
      "metadata": {
        "id": "YUXikrE-YWtc"
      },
      "source": [
        "Para medir el sesgo usamos esta lista de profesiones neutras de la siguiente forma:\n",
        "\n",
        "1. Proyectamos cada uno de los nombres de profesión neutros en la dirección de género\n",
        "2. Calculamos el valor absoluto de cada proyección\n",
        "3. Lo promediamos"
      ]
    },
    {
      "cell_type": "code",
      "metadata": {
        "colab": {
          "base_uri": "https://localhost:8080/",
          "height": 621
        },
        "id": "04EVnPAI_K_2",
        "outputId": "9876bef3-04d5-4671-ad66-4659de80ac87"
      },
      "source": [
        "import matplotlib.pylab as plt\n",
        "\n",
        "f, ax = plt.subplots(1, figsize=(10, 10))\n",
        "\n",
        "we_genero.plot_projection_scores(\n",
        "    profesiones_neutras + espacio_f[:1] + espacio_m[:1],\n",
        "    n_extreme=20,\n",
        "    ax=ax);"
      ],
      "execution_count": 218,
      "outputs": [
        {
          "output_type": "display_data",
          "data": {
            "image/png": "[encoded data removed]",
            "text/plain": [
              "<Figure size 720x720 with 1 Axes>"
            ]
          },
          "metadata": {
            "tags": [],
            "needs_background": "light"
          }
        }
      ]
    },
    {
      "cell_type": "code",
      "metadata": {
        "colab": {
          "base_uri": "https://localhost:8080/"
        },
        "id": "HPjUd3G__xHt",
        "outputId": "12c7e8c2-d881-47ac-8c2d-64e649824d46"
      },
      "source": [
        "we_genero.calc_direct_bias(profesiones_neutras, c=None)"
      ],
      "execution_count": 219,
      "outputs": [
        {
          "output_type": "execute_result",
          "data": {
            "text/plain": [
              "0.06407627389442337"
            ]
          },
          "metadata": {
            "tags": []
          },
          "execution_count": 219
        }
      ]
    },
    {
      "cell_type": "markdown",
      "metadata": {
        "id": "xLFsDvD_AY_4"
      },
      "source": [
        "## 4.4 Mitigación del sesgo de género"
      ]
    },
    {
      "cell_type": "markdown",
      "metadata": {
        "id": "Knqk1IOcCjqY"
      },
      "source": [
        "La estrategia que vimos para mitigar sesgo de género consiste en eliminar la proyección de género de las palabras de una lista de palabras neutras, y después normalizar. \n",
        "\n",
        "El problema que tenemos para trasladar esta estrategia directamente al castellano es que la lista de palabras neutras es mucho más difícil de obtener que para el inglés. En inglés la lista de palabras neutras tenía más de 26000 palabras, porque se definía como el complemento de la lista de palabras con género morfológicamente marcado, que son muy pocas en inglés y por lo tanto sencillas de listar.\n",
        "\n",
        "Como hemos dicho, en castellano la mayor parte de palabras tienen género morfológico marcado, así que resultará difícil construir la lista de palabras neutras.\n",
        "\n",
        "¿Qué pasa si la lista de palabras neutras es pequeña?"
      ]
    },
    {
      "cell_type": "markdown",
      "metadata": {
        "id": "vblZ7p8YbiZk"
      },
      "source": [
        "### Lista de palabras neutras corta\n",
        "\n",
        "Veamos qué pasa si usamos solamente las palabras de profesiones neutras como lista de palabras neutras para mitigar el sesgo. Esta lista tiene muy pocas palabras."
      ]
    },
    {
      "cell_type": "code",
      "metadata": {
        "colab": {
          "base_uri": "https://localhost:8080/"
        },
        "id": "eAX5RUffbseG",
        "outputId": "61f54de3-4125-40b7-f9d8-217f2d9b8e79"
      },
      "source": [
        "len(profesiones_neutras)"
      ],
      "execution_count": 224,
      "outputs": [
        {
          "output_type": "execute_result",
          "data": {
            "text/plain": [
              "23"
            ]
          },
          "metadata": {
            "tags": []
          },
          "execution_count": 224
        }
      ]
    },
    {
      "cell_type": "code",
      "metadata": {
        "colab": {
          "base_uri": "https://localhost:8080/"
        },
        "id": "ZYQDM_rMAoE0",
        "outputId": "775cc6aa-26be-4543-b54c-a6d47a21b405"
      },
      "source": [
        "we_genero_debias = we_genero.debias(method = 'neutralize' , neutral_words= profesiones_neutras, inplace=False)\n"
      ],
      "execution_count": 225,
      "outputs": [
        {
          "output_type": "stream",
          "text": [
            "2021-06-16 01:28:34,401 : precomputing L2-norms of word weight vectors\n",
            "2021-06-16 01:28:36,214 : precomputing L2-norms of word weight vectors\n"
          ],
          "name": "stderr"
        }
      ]
    },
    {
      "cell_type": "code",
      "metadata": {
        "id": "6GvXytuHUmi1"
      },
      "source": [
        "w2v_small_gender_debias = w2v_small_gender_bias.debias(method='neutralize', inplace=False)"
      ],
      "execution_count": null,
      "outputs": []
    },
    {
      "cell_type": "code",
      "metadata": {
        "id": "2IYxldUGb98f"
      },
      "source": [
        "Si medimos el sesgo después de la mitigación vemos que se ha reducido muchísimo! y el gráfico también indica lo mismo."
      ],
      "execution_count": null,
      "outputs": []
    },
    {
      "cell_type": "code",
      "metadata": {
        "colab": {
          "base_uri": "https://localhost:8080/"
        },
        "id": "aEd6e8iSGvak",
        "outputId": "48461f12-3ccd-4b7e-fa70-a2c6643a98a6"
      },
      "source": [
        "we_genero_debias.calc_direct_bias(profesiones_neutras, c=None)"
      ],
      "execution_count": 226,
      "outputs": [
        {
          "output_type": "execute_result",
          "data": {
            "text/plain": [
              "8.23345780925669e-09"
            ]
          },
          "metadata": {
            "tags": []
          },
          "execution_count": 226
        }
      ]
    },
    {
      "cell_type": "code",
      "metadata": {
        "colab": {
          "base_uri": "https://localhost:8080/",
          "height": 621
        },
        "id": "ljWRBRJYAqGk",
        "outputId": "c2e285ac-6009-41d5-f259-77265878ad4c"
      },
      "source": [
        "f, ax = plt.subplots(1, figsize=(10, 10))\n",
        "\n",
        "we_genero_debias.plot_projection_scores(\n",
        "    profesiones_neutras + espacio_f[:1] + espacio_m[:1],\n",
        "    n_extreme=20,\n",
        "    ax=ax);"
      ],
      "execution_count": 222,
      "outputs": [
        {
          "output_type": "display_data",
          "data": {
            "image/png": "[encoded data removed]",
            "text/plain": [
              "<Figure size 720x720 with 1 Axes>"
            ]
          },
          "metadata": {
            "tags": [],
            "needs_background": "light"
          }
        }
      ]
    },
    {
      "cell_type": "markdown",
      "metadata": {
        "id": "VESACLCqcLDO"
      },
      "source": [
        "Vamos a hacer una exploración cualitativa de cómo se ha reducido el sesgo:"
      ]
    },
    {
      "cell_type": "code",
      "metadata": {
        "colab": {
          "base_uri": "https://localhost:8080/"
        },
        "id": "D3gBbj_kdDQT",
        "outputId": "aa44c5b8-9b19-4a41-c8c5-c748dcb387bf"
      },
      "source": [
        "print('estudiante:',\n",
        "      'antes =', we_genero.model['estudiante'] @ we_genero.direction,\n",
        "      'después = ', we_genero_debias.model['estudiante'] @ we_genero_debias.direction)"
      ],
      "execution_count": 229,
      "outputs": [
        {
          "output_type": "stream",
          "text": [
            "estudiante: antes = -0.0048034997 después =  -1.2823875e-10\n"
          ],
          "name": "stdout"
        }
      ]
    },
    {
      "cell_type": "markdown",
      "metadata": {
        "id": "m6heBa7HdJgl"
      },
      "source": [
        "Pero, ¿qué pasa con las palabras que no están en la lista?"
      ]
    },
    {
      "cell_type": "code",
      "metadata": {
        "colab": {
          "base_uri": "https://localhost:8080/"
        },
        "id": "H9v2z7GpL8tw",
        "outputId": "8e3aa5c7-0999-4052-fd80-21199dc85f89"
      },
      "source": [
        "print('ingeniero:',\n",
        "      'antes =', we_genero.model['ingeniero'] @ we_genero.direction,\n",
        "      'después = ', we_genero_debias.model['ingeniero'] @ we_genero_debias.direction)"
      ],
      "execution_count": 227,
      "outputs": [
        {
          "output_type": "stream",
          "text": [
            "ingeniero: antes = -0.24747832 después =  -0.24747832\n"
          ],
          "name": "stdout"
        }
      ]
    },
    {
      "cell_type": "code",
      "metadata": {
        "colab": {
          "base_uri": "https://localhost:8080/"
        },
        "id": "Zezaw_S1cZqJ",
        "outputId": "2eb5a147-b544-4db8-e94c-1d03dba64062"
      },
      "source": [
        "print('laboralista:',\n",
        "      'antes =', we_genero.model['laboralista'] @ we_genero.direction,\n",
        "      'después = ', we_genero_debias.model['laboralista'] @ we_genero_debias.direction)"
      ],
      "execution_count": 228,
      "outputs": [
        {
          "output_type": "stream",
          "text": [
            "laboralista: antes = -0.08559768 después =  -0.08559768\n"
          ],
          "name": "stdout"
        }
      ]
    },
    {
      "cell_type": "markdown",
      "metadata": {
        "id": "aJJJwxUYfU-j"
      },
      "source": [
        "Esta aproximación sólo elimina el sesgo de las palabras que pongamos en la lista! \n",
        "\n",
        "Pero si en el castellano la mayoría de palabras tienen género marcado morfológicamente ¿qué palabras podemos poner en una lista de palabras neutras con respecto al género?"
      ]
    },
    {
      "cell_type": "markdown",
      "metadata": {
        "id": "SNiGG6yUFowb"
      },
      "source": [
        "## 4.5 Palabras de género semántico neutro para el castellano"
      ]
    },
    {
      "cell_type": "markdown",
      "metadata": {
        "id": "gO_eaAPvdQEC"
      },
      "source": [
        "\n",
        "* Palabras de categorías gramaticales sin género: verbos, adverbios, preposiciones\n",
        "* Palabras abstractas, cuyo género morfológico no tiene una correspondencia con un género semántico\n",
        "* Palabras de colectivos, igual\n",
        "* Más palabras sin género marcado morfológicamente, como las terminadas en -ble, -nte\n",
        "\n",
        "Ahora bien, si estas palabras no tienen género semántico, quizás no nos sirven para mitigar sesgo porque no están sesgadas... ¿o sí?"
      ]
    },
    {
      "cell_type": "markdown",
      "metadata": {
        "id": "Uomy6za9fgJj"
      },
      "source": [
        "### Categorías gramaticales sin género"
      ]
    },
    {
      "cell_type": "code",
      "metadata": {
        "id": "Bd8lf0ooflYW"
      },
      "source": [
        "verbos = [ \n",
        "          'comprar',\n",
        "          'vender',\n",
        "          'dormir',\n",
        "          'despertar',\n",
        "          'soñar',\n",
        "          'llorar',\n",
        "          'gritar',\n",
        "          'hablar',\n",
        "          'preguntar',\n",
        "          'pensar',\n",
        "          'inventar',\n",
        "          'bailar',\n",
        "          'cantar',\n",
        "          'cocinar',\n",
        "          'sentir',\n",
        "          'bordar',\n",
        "          'tejer',\n",
        "          'coser',\n",
        "          'razonar',\n",
        "          'argumentar',\n",
        "          'cursar',\n",
        "          'programar'\n",
        "]"
      ],
      "execution_count": 257,
      "outputs": []
    },
    {
      "cell_type": "code",
      "metadata": {
        "colab": {
          "base_uri": "https://localhost:8080/",
          "height": 621
        },
        "id": "KNmnHEkcf71t",
        "outputId": "28bd21db-7200-4579-d86a-d4b40b37ca14"
      },
      "source": [
        "f, ax = plt.subplots(1, figsize=(10, 10))\n",
        "\n",
        "we_genero.plot_projection_scores(\n",
        "    verbos + ['hombre'] + ['mujer'],\n",
        "    n_extreme=20,\n",
        "    ax=ax);"
      ],
      "execution_count": 258,
      "outputs": [
        {
          "output_type": "display_data",
          "data": {
            "image/png": "[encoded data removed]",
            "text/plain": [
              "<Figure size 720x720 with 1 Axes>"
            ]
          },
          "metadata": {
            "tags": [],
            "needs_background": "light"
          }
        }
      ]
    },
    {
      "cell_type": "markdown",
      "metadata": {
        "id": "E4mz_klb_4n6"
      },
      "source": [
        "### Colectivos\n",
        "\n",
        "Las palabras referidas a colectivos se han usado muchas veces en lenguaje igualitario, porque, aunque tienen género morfológico, ese género no se corresponde con el género de las personas que componen el colectivo.\n",
        "\n",
        "Podríamos usar las palabras de colectivos profesionales también como indicadores de género neutro!"
      ]
    },
    {
      "cell_type": "code",
      "metadata": {
        "id": "wxVgzTdt_8n8"
      },
      "source": [
        "profesiones_colectivos = [\n",
        "'ingeniería',\n",
        "'arquitectura',\n",
        "'psicología',\n",
        "'enfermería',\n",
        "'medicina',\n",
        "'carpintería',\n",
        "'presidencia',\n",
        "'biología',\n",
        "'cocina',\n",
        "'docencia',\n",
        "'abogacía',\n",
        "'cirugía',\n",
        "'neurocirugía',\n",
        "'actuación',\n",
        "'música',\n",
        "'canto'\n",
        "]"
      ],
      "execution_count": 152,
      "outputs": []
    },
    {
      "cell_type": "code",
      "metadata": {
        "colab": {
          "base_uri": "https://localhost:8080/",
          "height": 621
        },
        "id": "6RmGNCuG_51M",
        "outputId": "22b6da7c-517a-48b9-91ba-559bf4193a1f"
      },
      "source": [
        "f, ax = plt.subplots(1, figsize=(10, 10))\n",
        "\n",
        "we_genero.plot_projection_scores(\n",
        "    profesiones_colectivos + ['hombre'] + ['mujer'],\n",
        "    n_extreme=20,\n",
        "    ax=ax);"
      ],
      "execution_count": 153,
      "outputs": [
        {
          "output_type": "display_data",
          "data": {
            "image/png": "[encoded data removed]",
            "text/plain": [
              "<Figure size 720x720 with 1 Axes>"
            ]
          },
          "metadata": {
            "tags": [],
            "needs_background": "light"
          }
        }
      ]
    },
    {
      "cell_type": "markdown",
      "metadata": {
        "id": "rG5eTraUIuX5"
      },
      "source": [
        "### Sustantivos abstractos"
      ]
    },
    {
      "cell_type": "code",
      "metadata": {
        "id": "A0OP1H9kAUOU"
      },
      "source": [
        "sustantivos_abstractos = [\n",
        "'inteligencia',\n",
        "'belleza',\n",
        "'humildad',\n",
        "'sabiduría',\n",
        "'poder',\n",
        "'cariño',\n",
        "'bondad',\n",
        "'ambición',\n",
        "'delicadeza',\n",
        "'amabilidad',\n",
        "'paciencia',\n",
        "'popularidad',\n",
        "'fama',\n",
        "'generosidad',\n",
        "'honestidad',\n",
        "'canto',\n",
        "'maldad',\n",
        "'soberbia',\n",
        "'violencia'\n",
        "]\n"
      ],
      "execution_count": 141,
      "outputs": []
    },
    {
      "cell_type": "code",
      "metadata": {
        "colab": {
          "base_uri": "https://localhost:8080/",
          "height": 621
        },
        "id": "ptbtWCx1AQ1S",
        "outputId": "a368bed4-7acc-40e7-f6f0-5eb0517f7a9c"
      },
      "source": [
        "f, ax = plt.subplots(1, figsize=(10, 10))\n",
        "\n",
        "we_genero.plot_projection_scores(\n",
        "    sustantivos_abstractos + ['hombre'] + ['mujer'],\n",
        "    n_extreme=20,\n",
        "    ax=ax);"
      ],
      "execution_count": 142,
      "outputs": [
        {
          "output_type": "display_data",
          "data": {
            "image/png": "[encoded data removed]",
            "text/plain": [
              "<Figure size 720x720 with 1 Axes>"
            ]
          },
          "metadata": {
            "tags": [],
            "needs_background": "light"
          }
        }
      ]
    },
    {
      "cell_type": "markdown",
      "metadata": {
        "id": "03yUvAuyACiv"
      },
      "source": [
        "### Adjetivos neutros"
      ]
    },
    {
      "cell_type": "code",
      "metadata": {
        "id": "m29pPsvmAEUz"
      },
      "source": [
        "adjetivos_neutros = [\n",
        "'inteligente',\n",
        "'humilde',\n",
        "'amable',\n",
        "'dulce',\n",
        "'audaz',\n",
        "'paciente',\n",
        "'popular',\n",
        "'flexible',\n",
        "'grande',\n",
        "'brillante',\n",
        "'inocente',\n",
        "'fácil',\n",
        "'agradable',\n",
        "'infeliz',\n",
        "'capaz',\n",
        "'difícil',\n",
        "'temperamental',\n",
        "]"
      ],
      "execution_count": 139,
      "outputs": []
    },
    {
      "cell_type": "code",
      "metadata": {
        "colab": {
          "base_uri": "https://localhost:8080/",
          "height": 621
        },
        "id": "YnYd6L1K_7eS",
        "outputId": "aff46f0f-51cd-4969-e9c0-d8a51fc0fb01"
      },
      "source": [
        "f, ax = plt.subplots(1, figsize=(10, 10))\n",
        "\n",
        "we_genero.plot_projection_scores(\n",
        "    adjetivos_neutros + ['hombre'] + ['mujer'],\n",
        "    n_extreme=20,\n",
        "    ax=ax);"
      ],
      "execution_count": 140,
      "outputs": [
        {
          "output_type": "display_data",
          "data": {
            "image/png": "[encoded data removed]",
            "text/plain": [
              "<Figure size 720x720 with 1 Axes>"
            ]
          },
          "metadata": {
            "tags": [],
            "needs_background": "light"
          }
        }
      ]
    },
    {
      "cell_type": "markdown",
      "metadata": {
        "id": "2-CTEVbS_S2n"
      },
      "source": [
        "## 4.6 ¿Podemos incorporar palabras con género morfológico marcado?\n",
        "\n",
        "Incluso usando todas estas palabras con género semántico neutro, habrá muchas palabras que quedarán sesgadas, porque no se habrán podido neutralizar.\n",
        "\n",
        "¿Habrá alguna forma de incorporar las palabras con género marcado morfológicamente para hacer la neutralización?\n",
        "\n",
        "Veamos algunas de sus propiedades"
      ]
    },
    {
      "cell_type": "code",
      "metadata": {
        "id": "GJk195Hqi2Ae"
      },
      "source": [
        "palabras_con_genero = ['gato','gata']"
      ],
      "execution_count": 267,
      "outputs": []
    },
    {
      "cell_type": "code",
      "metadata": {
        "colab": {
          "base_uri": "https://localhost:8080/",
          "height": 187
        },
        "id": "AQp2rGrEi_V1",
        "outputId": "ede718e3-e9ce-4ee9-d554-63beff9e0b62"
      },
      "source": [
        "f, ax = plt.subplots(1, figsize=(10, 2))\n",
        "\n",
        "we_genero.plot_projection_scores(\n",
        "    palabras_con_genero + espacio_f[:1] + espacio_m[:1],\n",
        "    n_extreme=20,\n",
        "    ax=ax);"
      ],
      "execution_count": 270,
      "outputs": [
        {
          "output_type": "display_data",
          "data": {
            "image/png": "[encoded data removed]",
            "text/plain": [
              "<Figure size 720x144 with 1 Axes>"
            ]
          },
          "metadata": {
            "tags": [],
            "needs_background": "light"
          }
        }
      ]
    },
    {
      "cell_type": "code",
      "metadata": {
        "id": "pGi2NHg9_UYw"
      },
      "source": [
        "profesiones_con_genero = [\n",
        "                          'arquitecta', 'arquitecto',\n",
        "                          'ingeniera', 'ingeniero',\n",
        "                          'diseñadora', 'diseñador',\n",
        "                          'doctor', 'doctora',\n",
        "                          'abogada', 'abogado',\n",
        "                          'profesor', 'profesora',\n",
        "                          'contador','contadora',\n",
        "                          'científico', 'científica',\n",
        "                          'biólogo', 'bióloga',\n",
        "                          'cocinera', 'cocinero',\n",
        "                          'psicóloga','psicólogo',\n",
        "                          'enfermera', 'enfermero',\n",
        "                          'obrera', 'obrero',\n",
        "                          'actor', 'actriz'\n",
        "                          ]"
      ],
      "execution_count": 114,
      "outputs": []
    },
    {
      "cell_type": "code",
      "metadata": {
        "colab": {
          "base_uri": "https://localhost:8080/",
          "height": 621
        },
        "id": "Gm95_kS6_XKo",
        "outputId": "8661a221-8276-4dc3-e675-56b08ccb064b"
      },
      "source": [
        "f, ax = plt.subplots(1, figsize=(10, 10))\n",
        "\n",
        "we_genero.plot_projection_scores(\n",
        "    profesiones_con_genero + espacio_f[:1] + espacio_m[:1],\n",
        "    n_extreme=20,\n",
        "    ax=ax);"
      ],
      "execution_count": 115,
      "outputs": [
        {
          "output_type": "display_data",
          "data": {
            "image/png": "[encoded data removed]",
            "text/plain": [
              "<Figure size 720x720 with 1 Axes>"
            ]
          },
          "metadata": {
            "tags": [],
            "needs_background": "light"
          }
        }
      ]
    },
    {
      "cell_type": "markdown",
      "metadata": {
        "id": "w269IRa3Ah-4"
      },
      "source": [
        "Las profesiones con género morfológico femenino están más hacia el lado femenino que las profesiones masculinas hacia el lado masculino.\n"
      ]
    },
    {
      "cell_type": "markdown",
      "metadata": {
        "id": "QRqNKHfw_ddS"
      },
      "source": [
        "Podemos buscar otra forma de calcular el sesgo cuando la mayoría de las palabras tienen una forma femenina y otra masculina: podemos medir el sesgo como el valor absoluto de la diferencia entre la proyección de cada palabra. Cuanto más grande sea esa diferencia, más estereotipada hacia uno de los dos géneros está esa profesión."
      ]
    },
    {
      "cell_type": "code",
      "metadata": {
        "id": "JFGn9qyg_oeV"
      },
      "source": [
        "gender_direction = we_genero.direction"
      ],
      "execution_count": 130,
      "outputs": []
    },
    {
      "cell_type": "code",
      "metadata": {
        "colab": {
          "base_uri": "https://localhost:8080/"
        },
        "id": "wF0wkvExjRcg",
        "outputId": "873340cc-31cd-43ac-c44b-478ff342ac10"
      },
      "source": [
        "abs(gender_direction @ we.word_vec('gato')) - abs(gender_direction @ we.word_vec('gata'))"
      ],
      "execution_count": 262,
      "outputs": [
        {
          "output_type": "execute_result",
          "data": {
            "text/plain": [
              "0.0015478581"
            ]
          },
          "metadata": {
            "tags": []
          },
          "execution_count": 262
        }
      ]
    },
    {
      "cell_type": "code",
      "metadata": {
        "colab": {
          "base_uri": "https://localhost:8080/"
        },
        "id": "axaQfjdH_hyR",
        "outputId": "edd2492b-2e7c-4c99-e3d0-7a4f765855d3"
      },
      "source": [
        "abs(gender_direction @ we.word_vec('arquitecta')) - abs(gender_direction @ we.word_vec('arquitecto'))"
      ],
      "execution_count": 131,
      "outputs": [
        {
          "output_type": "execute_result",
          "data": {
            "text/plain": [
              "0.098457724"
            ]
          },
          "metadata": {
            "tags": []
          },
          "execution_count": 131
        }
      ]
    },
    {
      "cell_type": "code",
      "metadata": {
        "colab": {
          "base_uri": "https://localhost:8080/"
        },
        "id": "2ul9nN0OA2np",
        "outputId": "693f41b0-0921-4ba9-cc51-63629b0e4727"
      },
      "source": [
        "abs(gender_direction @ we.word_vec('médica')) - abs(gender_direction @ we.word_vec('médico'))"
      ],
      "execution_count": 133,
      "outputs": [
        {
          "output_type": "execute_result",
          "data": {
            "text/plain": [
              "-0.024638467"
            ]
          },
          "metadata": {
            "tags": []
          },
          "execution_count": 133
        }
      ]
    },
    {
      "cell_type": "code",
      "metadata": {
        "colab": {
          "base_uri": "https://localhost:8080/"
        },
        "id": "VWWUySLY_v7R",
        "outputId": "dd07b43b-46cb-44e8-8cd7-6fc3c069bd23"
      },
      "source": [
        "abs(gender_direction @ we.word_vec('enfermera')) - abs(gender_direction @ we.word_vec('enfermero'))"
      ],
      "execution_count": 118,
      "outputs": [
        {
          "output_type": "execute_result",
          "data": {
            "text/plain": [
              "0.21549931"
            ]
          },
          "metadata": {
            "tags": []
          },
          "execution_count": 118
        }
      ]
    },
    {
      "cell_type": "markdown",
      "metadata": {
        "id": "dqSvbe2sC3vd"
      },
      "source": [
        "# Resources\n",
        "\n",
        "## [Doing Data Science Responsibly - Resources](https://handbook.responsibly.ai/appendices/resources.html)\n",
        "\n",
        "In particular:\n",
        "\n",
        "- Timnit Gebru and Emily Denton - CVPR 2020 - [FATE Tutorial](https://youtu.be/-xGvcDzvi7Q) [Video]\n",
        "\n",
        "- Rachel Thomas - fast.ai - [Algorithmic Bias (NLP video 16)](https://youtu.be/pThqge9QDn8) [Video]\n",
        "\n",
        "- Solon Barocas, Moritz Hardt, Arvind Narayanan - [Fairness and machine learning - Limitations and Opportunities](https://fairmlbook.org/) [Textbook]\n",
        "\n",
        "## [Course // Responsible AI, Law, Ethics & Society](https://learn.responsibly.ai/)\n",
        "\n",
        "## [Course // Ethic aspects in AI (in spanish, from UBA)](https://campus.exactas.uba.ar/course/view.php?id=1477&section=0)\n",
        "\n",
        "\n",
        "## Non-Technical Overview with More Downstream Application Examples\n",
        "- [Google - Text Embedding Models Contain Bias. Here's Why That Matters.](https://developers.googleblog.com/2018/04/text-embedding-models-contain-bias.html)\n",
        "- [Kai-Wei Chang (UCLA) - What It Takes to Control Societal Bias in Natural Language Processing](https://www.youtube.com/watch?v=RgcXD_1Cu18)\n",
        "- Sun, T., Gaut, A., Tang, S., Huang, Y., ElSherief, M., Zhao, J., ... & Wang, W. Y. (2019). [Mitigating Gender Bias in Natural Language Processing: Literature Review](https://arxiv.org/pdf/1906.08976.pdf). arXiv preprint arXiv:1906.08976."
      ]
    },
    {
      "cell_type": "markdown",
      "metadata": {
        "id": "6jQnG0Jq_ccD"
      },
      "source": [
        ""
      ]
    },
    {
      "cell_type": "markdown",
      "metadata": {
        "id": "4LtaZOPmC3vd"
      },
      "source": [
        "## Critical Prespective on Bias in NLP\n",
        "\n",
        "Blodgett, S. L., Barocas, S., Daumé III, H., & Wallach, H. (2020). [Language (Technology) is Power: A Critical Survey of \"Bias\" in NLP](https://arxiv.org/pdf/2005.14050.pdf). arXiv preprint arXiv:2005.14050.\n",
        "\n"
      ]
    },
    {
      "cell_type": "markdown",
      "metadata": {
        "id": "BlguqiRoNaG9"
      },
      "source": [
        "## Additional Related Work\n",
        "\n",
        "- **Software Framework for Word Embedding Bias**\n",
        "  - [WEFE: The Word Embeddings Fairness Evaluation Framework](https://wefe.readthedocs.io/en/latest/)\n",
        "\n",
        "- **Understanding Bias**\n",
        "    - Ethayarajh, K., Duvenaud, D., & Hirst, G. (2019, July). [Understanding Undesirable Word Embedding Associations](https://arxiv.org/pdf/1908.06361.pdf). In Proceedings of the 57th Annual Meeting of the Association for Computational Linguistics (pp. 1696-1705). - **Including critical analysis of the current metrics and debiasing methods (quite technical)**\n",
        "\n",
        "  - Brunet, M. E., Alkalay-Houlihan, C., Anderson, A., & Zemel, R. (2019, May). [Understanding the Origins of Bias in Word Embeddings](https://arxiv.org/pdf/1810.03611.pdf). In International Conference on Machine Learning (pp. 803-811).\n",
        "\n",
        "- **Discovering Bias**\n",
        "  - Swinger, N., De-Arteaga, M., Heffernan IV, N. T., Leiserson, M. D., & Kalai, A. T. (2019, January). [What are the biases in my word embedding?](https://arxiv.org/pdf/1812.08769.pdf). In Proceedings of the 2019 AAAI/ACM Conference on AI, Ethics, and Society (pp. 305-311). ACM.\n",
        "    Measuring Gender Bias in Word Embeddings across Domains and Discovering New Gender Bias Word Categories\n",
        "  \n",
        "  - Chaloner, K., & Maldonado, A. (2019, August). [Measuring Gender Bias in Word Embeddings across Domains and Discovering New Gender Bias Word Categories](https://www.aclweb.org/anthology/W19-3804). In Proceedings of the First Workshop on Gender Bias in Natural Language Processing (pp. 25-32).\n",
        "\n",
        "- **Mitigating Bias**\n",
        "  - Maudslay, R. H., Gonen, H., Cotterell, R., & Teufel, S. (2019). [It's All in the Name: Mitigating Gender Bias with Name-Based Counterfactual Data Substitution](https://arxiv.org/pdf/1909.00871.pdf). arXiv preprint arXiv:1909.00871.\n",
        "  \n",
        "  - Shin, S., Song, K., Jang, J., Kim, H., Joo, W., & Moon, I. C. (2020). [Neutralizing Gender Bias in Word Embedding with Latent Disentanglement and Counterfactual Generation](https://arxiv.org/pdf/2004.03133.pdf). arXiv preprint arXiv:2004.03133.\n",
        "  \n",
        "  - Zhang, B. H., Lemoine, B., & Mitchell, M. (2018, December). [Mitigating unwanted biases with adversarial learning](https://dl.acm.org/doi/pdf/10.1145/3278721.3278779?casa_token=yd1KGvVDBGwAAAAA:YzUT7d8Fq4bOV2b5M-CB43NLqIReW7wx2EaZj0omJ0ncbZF_pkPFoyV6WHWIBnG_HKIRqiG7FWFjsA). In Proceedings of the 2018 AAAI/ACM Conference on AI, Ethics, and Society (pp. 335-340). [Demo](https://colab.research.google.com/notebooks/ml_fairness/adversarial_debiasing.ipynb)\n",
        "  \n",
        "- **Fairness in Classification**\n",
        "  - Prost, F., Thain, N., & Bolukbasi, T. (2019, August). [Debiasing Embeddings for Reduced Gender Bias in Text Classification](https://arxiv.org/pdf/1908.02810.pdf). In Proceedings of the First Workshop on Gender Bias in Natural Language Processing (pp. 69-75).\n",
        "  \n",
        "  - Romanov, A., De-Arteaga, M., Wallach, H., Chayes, J., Borgs, C., Chouldechova, A., ... & Kalai, A. (2019, June). [What's in a Name? Reducing Bias in Bios without Access to Protected Attributes](https://arxiv.org/pdf/1904.05233.pdf). In Proceedings of the 2019 Conference of the North American Chapter of the Association for Computational Linguistics: Human Language Technologies, Volume 1 (Long and Short Papers) (pp. 4187-4195).\n",
        "\n",
        "- **Grammatical Gender**\n",
        "  - Zhou, P., Shi, W., Zhao, J., Huang, K. H., Chen, M., & Chang, K. W. [Analyzing and Mitigating Gender Bias in Languages with Grammatical Gender and Bilingual Word Embeddings](https://aiforsocialgood.github.io/icml2019/accepted/track1/pdfs/47_aisg_icml2019.pdf). ICML 2019 - AI for Social Good. [Poster](https://aiforsocialgood.github.io/icml2019/accepted/track1/posters/47_aisg_icml2019.pdf)\n",
        "\n",
        "  - Zhao, J., Mukherjee, S., Hosseini, S., Chang, K. W., & Awadallah, A. [Gender Bias in Multilingual Embeddings](https://www.researchgate.net/profile/Subhabrata_Mukherjee/publication/340660062_Gender_Bias_in_Multilingual_Embeddings/links/5e97428692851c2f52a6200a/Gender-Bias-in-Multilingual-Embeddings.pdf).\n",
        "\n",
        "  - Gonen, H., Kementchedjhieva, Y., & Goldberg, Y. (2019). [How does Grammatical Gender Affect Noun Representations in Gender-Marking Languages?](https://arxiv.org/pdf/1910.14161.pdf). arXiv preprint arXiv:1910.14161.\n",
        "\n",
        "- **Other**  \n",
        "  - Zhao, J., Wang, T., Yatskar, M., Cotterell, R., Ordonez, V., & Chang, K. W. (2019, June). [Gender Bias in Contextualized Word Embeddings](https://arxiv.org/pdf/1904.03310.pdf). In Proceedings of the 2019 Conference of the North American Chapter of the Association for Computational Linguistics: Human Language Technologies, Volume 1 (Long and Short Papers) (pp. 629-634). [slides](https://jyzhao.net/files/naacl19.pdf)\n",
        "\n",
        "\n",
        "##### Complete example of using `responsibly` with Word2Vec, GloVe and fastText: http://docs.responsibly.ai/notebooks/demo-gender-bias-words-embedding.html"
      ]
    },
    {
      "cell_type": "markdown",
      "metadata": {
        "id": "g0qt-q15NflT"
      },
      "source": [
        "## Bias in NLP\n",
        "\n",
        "Around dozen of papers on this field until 2019, but nowdays plenty of work is done. Two venues from back then:\n",
        "- [1st ACL Workshop on Gender Bias for Natural Language Processing](https://genderbiasnlp.talp.cat/)\n",
        "- [NAACL 2019](https://naacl2019.org/)"
      ]
    },
    {
      "cell_type": "code",
      "metadata": {
        "id": "muFnue4CNgN9"
      },
      "source": [
        ""
      ],
      "execution_count": null,
      "outputs": []
    }
  ]
}